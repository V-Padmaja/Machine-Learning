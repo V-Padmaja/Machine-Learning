{
 "cells": [
  {
   "cell_type": "markdown",
   "metadata": {},
   "source": [
    "# Clustering algorithm \n",
    "## V Padmaja 19BAI1107"
   ]
  },
  {
   "cell_type": "markdown",
   "metadata": {},
   "source": [
    "### Importing libraries"
   ]
  },
  {
   "cell_type": "code",
   "execution_count": 1,
   "metadata": {},
   "outputs": [],
   "source": [
    "import pandas as pd\n",
    "from sklearn.cluster import KMeans\n",
    "from sklearn_extra.cluster import KMedoids\n",
    "from sklearn.preprocessing import MinMaxScaler\n",
    "from sklearn.metrics import silhouette_score"
   ]
  },
  {
   "cell_type": "code",
   "execution_count": 2,
   "metadata": {},
   "outputs": [
    {
     "data": {
      "text/html": [
       "<div>\n",
       "<style scoped>\n",
       "    .dataframe tbody tr th:only-of-type {\n",
       "        vertical-align: middle;\n",
       "    }\n",
       "\n",
       "    .dataframe tbody tr th {\n",
       "        vertical-align: top;\n",
       "    }\n",
       "\n",
       "    .dataframe thead th {\n",
       "        text-align: right;\n",
       "    }\n",
       "</style>\n",
       "<table border=\"1\" class=\"dataframe\">\n",
       "  <thead>\n",
       "    <tr style=\"text-align: right;\">\n",
       "      <th></th>\n",
       "      <th>P1</th>\n",
       "      <th>P2</th>\n",
       "      <th>P3</th>\n",
       "      <th>P4</th>\n",
       "      <th>P5</th>\n",
       "      <th>P6</th>\n",
       "      <th>P7</th>\n",
       "      <th>P8</th>\n",
       "      <th>P9</th>\n",
       "      <th>P10</th>\n",
       "      <th>...</th>\n",
       "      <th>P12</th>\n",
       "      <th>P13</th>\n",
       "      <th>P14</th>\n",
       "      <th>P15</th>\n",
       "      <th>P16</th>\n",
       "      <th>P17</th>\n",
       "      <th>P18</th>\n",
       "      <th>P19</th>\n",
       "      <th>P20</th>\n",
       "      <th>Target Label</th>\n",
       "    </tr>\n",
       "  </thead>\n",
       "  <tbody>\n",
       "    <tr>\n",
       "      <th>0</th>\n",
       "      <td>3.30</td>\n",
       "      <td>7.44</td>\n",
       "      <td>1.52</td>\n",
       "      <td>3.27</td>\n",
       "      <td>0.07</td>\n",
       "      <td>2.14</td>\n",
       "      <td>0.75</td>\n",
       "      <td>0.66</td>\n",
       "      <td>0.0</td>\n",
       "      <td>54.8</td>\n",
       "      <td>...</td>\n",
       "      <td>50.7</td>\n",
       "      <td>6.55</td>\n",
       "      <td>4.09</td>\n",
       "      <td>4.26</td>\n",
       "      <td>0.01</td>\n",
       "      <td>0.00</td>\n",
       "      <td>24.7</td>\n",
       "      <td>2.7</td>\n",
       "      <td>1.6</td>\n",
       "      <td>V1</td>\n",
       "    </tr>\n",
       "    <tr>\n",
       "      <th>1</th>\n",
       "      <td>3.43</td>\n",
       "      <td>7.63</td>\n",
       "      <td>1.63</td>\n",
       "      <td>3.27</td>\n",
       "      <td>0.05</td>\n",
       "      <td>2.01</td>\n",
       "      <td>0.74</td>\n",
       "      <td>0.65</td>\n",
       "      <td>0.0</td>\n",
       "      <td>51.8</td>\n",
       "      <td>...</td>\n",
       "      <td>47.9</td>\n",
       "      <td>8.35</td>\n",
       "      <td>5.08</td>\n",
       "      <td>5.01</td>\n",
       "      <td>0.01</td>\n",
       "      <td>0.00</td>\n",
       "      <td>23.3</td>\n",
       "      <td>2.3</td>\n",
       "      <td>1.8</td>\n",
       "      <td>V1</td>\n",
       "    </tr>\n",
       "    <tr>\n",
       "      <th>2</th>\n",
       "      <td>3.41</td>\n",
       "      <td>7.32</td>\n",
       "      <td>1.52</td>\n",
       "      <td>3.18</td>\n",
       "      <td>0.07</td>\n",
       "      <td>2.09</td>\n",
       "      <td>0.80</td>\n",
       "      <td>0.70</td>\n",
       "      <td>0.0</td>\n",
       "      <td>54.0</td>\n",
       "      <td>...</td>\n",
       "      <td>54.4</td>\n",
       "      <td>9.27</td>\n",
       "      <td>6.85</td>\n",
       "      <td>7.14</td>\n",
       "      <td>0.19</td>\n",
       "      <td>0.06</td>\n",
       "      <td>25.0</td>\n",
       "      <td>2.5</td>\n",
       "      <td>-0.9</td>\n",
       "      <td>V1</td>\n",
       "    </tr>\n",
       "    <tr>\n",
       "      <th>3</th>\n",
       "      <td>3.78</td>\n",
       "      <td>7.85</td>\n",
       "      <td>1.69</td>\n",
       "      <td>3.35</td>\n",
       "      <td>0.03</td>\n",
       "      <td>1.98</td>\n",
       "      <td>0.77</td>\n",
       "      <td>0.67</td>\n",
       "      <td>0.0</td>\n",
       "      <td>57.7</td>\n",
       "      <td>...</td>\n",
       "      <td>48.9</td>\n",
       "      <td>10.26</td>\n",
       "      <td>5.96</td>\n",
       "      <td>5.47</td>\n",
       "      <td>0.05</td>\n",
       "      <td>0.01</td>\n",
       "      <td>24.1</td>\n",
       "      <td>5.6</td>\n",
       "      <td>2.1</td>\n",
       "      <td>V1</td>\n",
       "    </tr>\n",
       "    <tr>\n",
       "      <th>4</th>\n",
       "      <td>3.90</td>\n",
       "      <td>7.99</td>\n",
       "      <td>1.61</td>\n",
       "      <td>3.43</td>\n",
       "      <td>0.02</td>\n",
       "      <td>2.14</td>\n",
       "      <td>0.77</td>\n",
       "      <td>0.71</td>\n",
       "      <td>0.0</td>\n",
       "      <td>59.1</td>\n",
       "      <td>...</td>\n",
       "      <td>54.1</td>\n",
       "      <td>8.19</td>\n",
       "      <td>5.81</td>\n",
       "      <td>4.72</td>\n",
       "      <td>0.64</td>\n",
       "      <td>0.16</td>\n",
       "      <td>26.8</td>\n",
       "      <td>2.5</td>\n",
       "      <td>2.1</td>\n",
       "      <td>V1</td>\n",
       "    </tr>\n",
       "  </tbody>\n",
       "</table>\n",
       "<p>5 rows × 21 columns</p>\n",
       "</div>"
      ],
      "text/plain": [
       "     P1    P2    P3    P4    P5    P6    P7    P8   P9   P10  ...   P12  \\\n",
       "0  3.30  7.44  1.52  3.27  0.07  2.14  0.75  0.66  0.0  54.8  ...  50.7   \n",
       "1  3.43  7.63  1.63  3.27  0.05  2.01  0.74  0.65  0.0  51.8  ...  47.9   \n",
       "2  3.41  7.32  1.52  3.18  0.07  2.09  0.80  0.70  0.0  54.0  ...  54.4   \n",
       "3  3.78  7.85  1.69  3.35  0.03  1.98  0.77  0.67  0.0  57.7  ...  48.9   \n",
       "4  3.90  7.99  1.61  3.43  0.02  2.14  0.77  0.71  0.0  59.1  ...  54.1   \n",
       "\n",
       "     P13   P14   P15   P16   P17   P18  P19  P20  Target Label  \n",
       "0   6.55  4.09  4.26  0.01  0.00  24.7  2.7  1.6            V1  \n",
       "1   8.35  5.08  5.01  0.01  0.00  23.3  2.3  1.8            V1  \n",
       "2   9.27  6.85  7.14  0.19  0.06  25.0  2.5 -0.9            V1  \n",
       "3  10.26  5.96  5.47  0.05  0.01  24.1  5.6  2.1            V1  \n",
       "4   8.19  5.81  4.72  0.64  0.16  26.8  2.5  2.1            V1  \n",
       "\n",
       "[5 rows x 21 columns]"
      ]
     },
     "execution_count": 2,
     "metadata": {},
     "output_type": "execute_result"
    }
   ],
   "source": [
    "data = pd.read_csv(\"Multiclass-dataset_ml.csv\")\n",
    "data.head()"
   ]
  },
  {
   "cell_type": "code",
   "execution_count": 3,
   "metadata": {},
   "outputs": [],
   "source": [
    "X = data.drop(['Target Label'],axis=1)"
   ]
  },
  {
   "cell_type": "markdown",
   "metadata": {},
   "source": [
    "## K means"
   ]
  },
  {
   "cell_type": "code",
   "execution_count": 4,
   "metadata": {},
   "outputs": [
    {
     "data": {
      "text/html": [
       "<div>\n",
       "<style scoped>\n",
       "    .dataframe tbody tr th:only-of-type {\n",
       "        vertical-align: middle;\n",
       "    }\n",
       "\n",
       "    .dataframe tbody tr th {\n",
       "        vertical-align: top;\n",
       "    }\n",
       "\n",
       "    .dataframe thead th {\n",
       "        text-align: right;\n",
       "    }\n",
       "</style>\n",
       "<table border=\"1\" class=\"dataframe\">\n",
       "  <thead>\n",
       "    <tr style=\"text-align: right;\">\n",
       "      <th></th>\n",
       "      <th>P1</th>\n",
       "      <th>P2</th>\n",
       "      <th>P3</th>\n",
       "      <th>P4</th>\n",
       "      <th>P5</th>\n",
       "      <th>P6</th>\n",
       "      <th>P7</th>\n",
       "      <th>P8</th>\n",
       "      <th>P9</th>\n",
       "      <th>P10</th>\n",
       "      <th>P11</th>\n",
       "      <th>P12</th>\n",
       "      <th>P13</th>\n",
       "      <th>P14</th>\n",
       "      <th>P15</th>\n",
       "      <th>P16</th>\n",
       "      <th>P17</th>\n",
       "      <th>P18</th>\n",
       "      <th>P19</th>\n",
       "      <th>P20</th>\n",
       "    </tr>\n",
       "  </thead>\n",
       "  <tbody>\n",
       "    <tr>\n",
       "      <th>0</th>\n",
       "      <td>0.385281</td>\n",
       "      <td>0.493617</td>\n",
       "      <td>0.330097</td>\n",
       "      <td>0.614679</td>\n",
       "      <td>0.454545</td>\n",
       "      <td>0.625850</td>\n",
       "      <td>0.40</td>\n",
       "      <td>0.166667</td>\n",
       "      <td>0.0</td>\n",
       "      <td>0.082202</td>\n",
       "      <td>0.050390</td>\n",
       "      <td>0.069636</td>\n",
       "      <td>0.033597</td>\n",
       "      <td>0.001104</td>\n",
       "      <td>0.041871</td>\n",
       "      <td>0.002681</td>\n",
       "      <td>0.000000</td>\n",
       "      <td>0.080214</td>\n",
       "      <td>0.119816</td>\n",
       "      <td>0.084746</td>\n",
       "    </tr>\n",
       "    <tr>\n",
       "      <th>1</th>\n",
       "      <td>0.441558</td>\n",
       "      <td>0.574468</td>\n",
       "      <td>0.436893</td>\n",
       "      <td>0.614679</td>\n",
       "      <td>0.272727</td>\n",
       "      <td>0.537415</td>\n",
       "      <td>0.35</td>\n",
       "      <td>0.083333</td>\n",
       "      <td>0.0</td>\n",
       "      <td>0.060758</td>\n",
       "      <td>0.033357</td>\n",
       "      <td>0.046964</td>\n",
       "      <td>0.104743</td>\n",
       "      <td>0.055770</td>\n",
       "      <td>0.082654</td>\n",
       "      <td>0.002681</td>\n",
       "      <td>0.000000</td>\n",
       "      <td>0.055258</td>\n",
       "      <td>0.101382</td>\n",
       "      <td>0.091525</td>\n",
       "    </tr>\n",
       "    <tr>\n",
       "      <th>2</th>\n",
       "      <td>0.432900</td>\n",
       "      <td>0.442553</td>\n",
       "      <td>0.330097</td>\n",
       "      <td>0.532110</td>\n",
       "      <td>0.454545</td>\n",
       "      <td>0.591837</td>\n",
       "      <td>0.65</td>\n",
       "      <td>0.500000</td>\n",
       "      <td>0.0</td>\n",
       "      <td>0.076483</td>\n",
       "      <td>0.056068</td>\n",
       "      <td>0.099595</td>\n",
       "      <td>0.141107</td>\n",
       "      <td>0.153506</td>\n",
       "      <td>0.198477</td>\n",
       "      <td>0.050938</td>\n",
       "      <td>0.060606</td>\n",
       "      <td>0.085561</td>\n",
       "      <td>0.110599</td>\n",
       "      <td>0.000000</td>\n",
       "    </tr>\n",
       "    <tr>\n",
       "      <th>3</th>\n",
       "      <td>0.593074</td>\n",
       "      <td>0.668085</td>\n",
       "      <td>0.495146</td>\n",
       "      <td>0.688073</td>\n",
       "      <td>0.090909</td>\n",
       "      <td>0.517007</td>\n",
       "      <td>0.50</td>\n",
       "      <td>0.250000</td>\n",
       "      <td>0.0</td>\n",
       "      <td>0.102931</td>\n",
       "      <td>0.032647</td>\n",
       "      <td>0.055061</td>\n",
       "      <td>0.180237</td>\n",
       "      <td>0.104362</td>\n",
       "      <td>0.107667</td>\n",
       "      <td>0.013405</td>\n",
       "      <td>0.010101</td>\n",
       "      <td>0.069519</td>\n",
       "      <td>0.253456</td>\n",
       "      <td>0.101695</td>\n",
       "    </tr>\n",
       "    <tr>\n",
       "      <th>4</th>\n",
       "      <td>0.645022</td>\n",
       "      <td>0.727660</td>\n",
       "      <td>0.417476</td>\n",
       "      <td>0.761468</td>\n",
       "      <td>0.000000</td>\n",
       "      <td>0.625850</td>\n",
       "      <td>0.50</td>\n",
       "      <td>0.583333</td>\n",
       "      <td>0.0</td>\n",
       "      <td>0.112938</td>\n",
       "      <td>0.081618</td>\n",
       "      <td>0.097166</td>\n",
       "      <td>0.098419</td>\n",
       "      <td>0.096080</td>\n",
       "      <td>0.066884</td>\n",
       "      <td>0.171582</td>\n",
       "      <td>0.161616</td>\n",
       "      <td>0.117647</td>\n",
       "      <td>0.110599</td>\n",
       "      <td>0.101695</td>\n",
       "    </tr>\n",
       "  </tbody>\n",
       "</table>\n",
       "</div>"
      ],
      "text/plain": [
       "         P1        P2        P3        P4        P5        P6    P7        P8  \\\n",
       "0  0.385281  0.493617  0.330097  0.614679  0.454545  0.625850  0.40  0.166667   \n",
       "1  0.441558  0.574468  0.436893  0.614679  0.272727  0.537415  0.35  0.083333   \n",
       "2  0.432900  0.442553  0.330097  0.532110  0.454545  0.591837  0.65  0.500000   \n",
       "3  0.593074  0.668085  0.495146  0.688073  0.090909  0.517007  0.50  0.250000   \n",
       "4  0.645022  0.727660  0.417476  0.761468  0.000000  0.625850  0.50  0.583333   \n",
       "\n",
       "    P9       P10       P11       P12       P13       P14       P15       P16  \\\n",
       "0  0.0  0.082202  0.050390  0.069636  0.033597  0.001104  0.041871  0.002681   \n",
       "1  0.0  0.060758  0.033357  0.046964  0.104743  0.055770  0.082654  0.002681   \n",
       "2  0.0  0.076483  0.056068  0.099595  0.141107  0.153506  0.198477  0.050938   \n",
       "3  0.0  0.102931  0.032647  0.055061  0.180237  0.104362  0.107667  0.013405   \n",
       "4  0.0  0.112938  0.081618  0.097166  0.098419  0.096080  0.066884  0.171582   \n",
       "\n",
       "        P17       P18       P19       P20  \n",
       "0  0.000000  0.080214  0.119816  0.084746  \n",
       "1  0.000000  0.055258  0.101382  0.091525  \n",
       "2  0.060606  0.085561  0.110599  0.000000  \n",
       "3  0.010101  0.069519  0.253456  0.101695  \n",
       "4  0.161616  0.117647  0.110599  0.101695  "
      ]
     },
     "execution_count": 4,
     "metadata": {},
     "output_type": "execute_result"
    }
   ],
   "source": [
    "#min max scaler\n",
    "scaler = MinMaxScaler()\n",
    "\n",
    "for i in X.columns:\n",
    "    scaler.fit(data[[i]])\n",
    "    X[i] = scaler.transform(X[[i]])\n",
    "X.head()"
   ]
  },
  {
   "cell_type": "code",
   "execution_count": 5,
   "metadata": {},
   "outputs": [
    {
     "name": "stdout",
     "output_type": "stream",
     "text": [
      "            0         1\n",
      "0  217.851786  0.471396\n",
      "1  149.085943  0.433713\n",
      "2  118.664639  0.352516\n",
      "3  110.445384  0.300789\n",
      "4  104.885012  0.283661\n",
      "5   99.521961  0.257438\n",
      "6   94.474707  0.265478\n",
      "7   89.260096  0.180268\n",
      "8   85.882331  0.173998\n"
     ]
    }
   ],
   "source": [
    "sqerror = []\n",
    "silscore = []\n",
    "d = []\n",
    "kvalues = [i for i in range(2,11)]\n",
    "for k in kvalues:\n",
    "    kmeans = KMeans(n_clusters=k)\n",
    "    kmeans.fit(X)\n",
    "    sqerror.append(kmeans.inertia_)\n",
    "    silscore.append(silhouette_score(X,kmeans.labels_))\n",
    "    d.append([kmeans.inertia_,silhouette_score(X,kmeans.labels_)])\n",
    "\n",
    "kmeans_results = pd.DataFrame(data=d)\n",
    "print(kmeans_results)"
   ]
  },
  {
   "cell_type": "markdown",
   "metadata": {},
   "source": [
    "## Plotting errors:"
   ]
  },
  {
   "cell_type": "code",
   "execution_count": 6,
   "metadata": {},
   "outputs": [
    {
     "data": {
      "image/png": "[encoded data removed]",
      "text/plain": [
       "<Figure size 432x288 with 1 Axes>"
      ]
     },
     "metadata": {
      "needs_background": "light"
     },
     "output_type": "display_data"
    }
   ],
   "source": [
    "import matplotlib.pyplot as plt\n",
    "plt.plot(range(2, 11), sqerror)\n",
    "plt.xticks(range(2, 11))\n",
    "plt.xlabel(\"Number of Clusters\")\n",
    "plt.ylabel(\"error\")\n",
    "plt.show()"
   ]
  },
  {
   "cell_type": "markdown",
   "metadata": {},
   "source": [
    "## Plotting silhouette score:"
   ]
  },
  {
   "cell_type": "code",
   "execution_count": 7,
   "metadata": {},
   "outputs": [
    {
     "data": {
      "image/png": "[encoded data removed]",
      "text/plain": [
       "<Figure size 432x288 with 1 Axes>"
      ]
     },
     "metadata": {
      "needs_background": "light"
     },
     "output_type": "display_data"
    }
   ],
   "source": [
    "plt.plot(range(2, 11), silscore)\n",
    "plt.xticks(range(2, 11))\n",
    "plt.xlabel(\"Number of Clusters\")\n",
    "plt.ylabel(\"silhouette score\")\n",
    "plt.show()"
   ]
  },
  {
   "cell_type": "markdown",
   "metadata": {},
   "source": [
    "### Optimum value considered is 4, since it is at kneebreak point in the first plot and also has a comparatiely high silhouette score"
   ]
  },
  {
   "cell_type": "code",
   "execution_count": 8,
   "metadata": {},
   "outputs": [
    {
     "name": "stdout",
     "output_type": "stream",
     "text": [
      "clusters centers are: \n",
      " [[0.58630952 0.60005319 0.49805825 0.55745413 0.32727273 0.46879252\n",
      "  0.646875   0.45208333 0.00145833 0.94228914 0.88818311 0.80409919\n",
      "  0.25322134 0.56205826 0.5728317  0.01370643 0.01363636 0.91586453\n",
      "  0.15645161 0.41983051]\n",
      " [0.42049062 0.44865248 0.38614887 0.45345566 0.35212121 0.51097506\n",
      "  0.59666667 0.44166667 0.03277778 0.35733143 0.12651999 0.07404588\n",
      "  0.4018498  0.32273882 0.20204459 0.02711349 0.02801347 0.23503268\n",
      "  0.66976959 0.46662147]\n",
      " [0.43047357 0.44951644 0.39776405 0.45051432 0.29614325 0.50030921\n",
      "  0.61742424 0.43434343 0.         0.47476553 0.20461535 0.10991289\n",
      "  0.39272967 0.37079799 0.18922504 0.71927045 0.80241812 0.33111867\n",
      "  0.73209049 0.60570108]\n",
      " [0.38690476 0.44439444 0.35950336 0.47812279 0.33041958 0.54860021\n",
      "  0.51346154 0.35657051 0.08301282 0.12406527 0.06142518 0.07835565\n",
      "  0.1874886  0.16660472 0.17468733 0.03882244 0.04351204 0.10302688\n",
      "  0.21601382 0.11900261]]\n",
      "\n",
      "\n",
      "cluster indexes of each points are: \n",
      " [3 3 3 3 3 3 3 3 3 3 3 3 3 3 3 3 3 3 3 3 3 3 3 3 3 3 3 3 3 3 3 3 3 3 3 3 3\n",
      " 3 3 3 0 0 0 0 0 0 0 0 0 0 0 0 0 0 0 0 0 0 0 0 0 0 0 0 0 0 0 0 0 0 0 0 0 0\n",
      " 0 0 0 0 0 0 3 3 3 3 3 3 3 3 3 3 3 3 3 3 3 3 3 3 3 3 3 3 3 3 3 3 3 3 3 3 3\n",
      " 3 3 3 3 3 3 3 3 3 1 3 1 3 3 3 1 1 3 3 1 1 1 1 1 1 1 1 1 1 3 3 1 1 3 1 1 1\n",
      " 1 3 1 3 1 1 1 1 3 3 1 1 3 1 1 1 3 1 3 1 1 1 1 1 1 1 1 1 1 1 1 1 1 1 1 1 1\n",
      " 1 1 1 1 1 1 1 1 1 1 1 1 1 1 1 1 1 1 1 1 1 1 3 1 1 1 1 1 1 1 1 1 1 3 1 1 1\n",
      " 1 1 1 1 1 1 1 1 1 1 1 1 1 1 1 1 1 1 2 2 2 2 2 2 2 2 2 2 2 2 2 2 2 2 2 2 2\n",
      " 2 2 2 2 2 2 2 2 2 2 2 2 2 2 2 2 2 2 2 2 2 2 2 2 2 2 2 2 1 2 2 2 2 1 2 1 1\n",
      " 3 1 2 2 2 1 2 2 1 2 1 2 2 2 1 1 2 2 2 1 1 2 1 2 1 1 1 1 1 1 1 1 3 1 1 1 1\n",
      " 1 1 1 3 1 1 1 1 1 1 1 1 1 1 1 1 3 1 1 3 1 1 1 1 1 3 1 0 0 0 0 0 0 0 0 0 0\n",
      " 0 0 0 0 0 0 0 0 0 0 0 0 0 0 0 0 0 0 0 0 0 0 0 0 0 0 0 0 0 0]\n",
      "\n",
      "\n",
      "squared error is:  118.66463945488982\n",
      "\n",
      "silhouette score is:  0.35251611534021626\n"
     ]
    }
   ],
   "source": [
    "kmeans = KMeans(n_clusters=4,random_state=101)\n",
    "kmeans.fit_predict(X)\n",
    "print(\"clusters centers are: \\n\",kmeans.cluster_centers_)\n",
    "print(\"\\n\\ncluster indexes of each points are: \\n\",kmeans.labels_)\n",
    "print(\"\\n\\nsquared error is: \",kmeans.inertia_)\n",
    "print(\"\\nsilhouette score is: \",silhouette_score(X,kmeans.labels_))"
   ]
  },
  {
   "cell_type": "markdown",
   "metadata": {},
   "source": [
    "## Fine tuning to improve result"
   ]
  },
  {
   "cell_type": "code",
   "execution_count": 9,
   "metadata": {},
   "outputs": [
    {
     "name": "stdout",
     "output_type": "stream",
     "text": [
      "             fine-tuning       error  silhouette score\n",
      "0  random initialization  118.664639          0.352516\n",
      "1            n_init=2000  118.664639          0.352516\n",
      "2           max_iter=500  118.664639          0.352516\n"
     ]
    }
   ],
   "source": [
    "\n",
    "adj_data = []\n",
    "\n",
    "kmeans1 = KMeans(init=\"random\",n_clusters=4,random_state=101)\n",
    "kmeans1.fit_predict(X)\n",
    "adj_data.append([\"random initialization\",kmeans1.inertia_,silhouette_score(X,kmeans1.labels_)])\n",
    "\n",
    "kmeans2 = KMeans(n_clusters=4,n_init=2000,random_state=101) #n_Init changed from 10 to 2000\n",
    "kmeans2.fit_predict(X)\n",
    "adj_data.append([\"n_init=2000\",kmeans2.inertia_,silhouette_score(X,kmeans2.labels_)])\n",
    "\n",
    "kmeans3 = KMeans(n_clusters=4,max_iter=500,random_state=101) #max_iter changed from 300 to 500\n",
    "kmeans3.fit_predict(X)\n",
    "adj_data.append([\"max_iter=500\",kmeans3.inertia_,silhouette_score(X,kmeans3.labels_)])\n",
    "\n",
    "adj_df = pd.DataFrame(data = adj_data,columns=[\"fine-tuning\",\"error\",\"silhouette score\"])\n",
    "print(adj_df)"
   ]
  },
  {
   "cell_type": "markdown",
   "metadata": {},
   "source": [
    "### In k means we dont get far better results even after fine tuning."
   ]
  },
  {
   "cell_type": "markdown",
   "metadata": {},
   "source": [
    "## K medoid"
   ]
  },
  {
   "cell_type": "code",
   "execution_count": 10,
   "metadata": {},
   "outputs": [
    {
     "name": "stdout",
     "output_type": "stream",
     "text": [
      "            0         1\n",
      "0  355.261892  0.207318\n",
      "1  268.031150  0.286623\n",
      "2  257.220819  0.235088\n",
      "3  213.270578  0.295810\n",
      "4  213.431986  0.258717\n",
      "5  206.868408  0.251716\n",
      "6  206.546197  0.248396\n",
      "7  204.672701  0.226538\n",
      "8  196.451543  0.222881\n"
     ]
    }
   ],
   "source": [
    "sqerror = []\n",
    "silscore = []\n",
    "d = []\n",
    "kvalues = [i for i in range(2,11)]\n",
    "for k in kvalues:\n",
    "    kmedoids = KMedoids(n_clusters=k)\n",
    "    kmedoids.fit(X)\n",
    "    sqerror.append(kmedoids.inertia_)\n",
    "    silscore.append(silhouette_score(X,kmedoids.labels_))\n",
    "    d.append([kmedoids.inertia_,silhouette_score(X,kmedoids.labels_)])\n",
    "\n",
    "kmedoids_results = pd.DataFrame(data=d)\n",
    "print(kmedoids_results)"
   ]
  },
  {
   "cell_type": "markdown",
   "metadata": {},
   "source": [
    "## Plotting errors:"
   ]
  },
  {
   "cell_type": "code",
   "execution_count": 11,
   "metadata": {},
   "outputs": [
    {
     "data": {
      "image/png": "[encoded data removed]",
      "text/plain": [
       "<Figure size 432x288 with 1 Axes>"
      ]
     },
     "metadata": {
      "needs_background": "light"
     },
     "output_type": "display_data"
    }
   ],
   "source": [
    "plt.plot(range(2, 11), sqerror)\n",
    "plt.xticks(range(2, 11))\n",
    "plt.xlabel(\"Number of Clusters\")\n",
    "plt.ylabel(\"error\")\n",
    "plt.show()"
   ]
  },
  {
   "cell_type": "markdown",
   "metadata": {},
   "source": [
    "## Plotting silhouette score:"
   ]
  },
  {
   "cell_type": "code",
   "execution_count": 12,
   "metadata": {},
   "outputs": [
    {
     "data": {
      "image/png": "[encoded data removed]",
      "text/plain": [
       "<Figure size 432x288 with 1 Axes>"
      ]
     },
     "metadata": {
      "needs_background": "light"
     },
     "output_type": "display_data"
    }
   ],
   "source": [
    "plt.plot(range(2, 11), silscore)\n",
    "plt.xticks(range(2, 11))\n",
    "plt.xlabel(\"Number of Clusters\")\n",
    "plt.ylabel(\"silhouette score\")\n",
    "plt.show()"
   ]
  },
  {
   "cell_type": "markdown",
   "metadata": {},
   "source": [
    "### 3 is considered a good choice as first maximum knee behaviour occurs there."
   ]
  },
  {
   "cell_type": "code",
   "execution_count": 13,
   "metadata": {},
   "outputs": [
    {
     "name": "stdout",
     "output_type": "stream",
     "text": [
      "clusters centers are: \n",
      " [[0.35930736 0.37021277 0.36893204 0.42201835 0.45454545 0.51020408\n",
      "  0.65       0.33333333 0.         0.11293781 0.04045422 0.05991903\n",
      "  0.19090909 0.13528437 0.15715063 0.         0.         0.0802139\n",
      "  0.25345622 0.11525424]\n",
      " [0.66233766 0.6893617  0.49514563 0.68807339 0.36363636 0.5170068\n",
      "  0.6        0.5        0.         0.92423159 0.88218595 0.82510121\n",
      "  0.27233202 0.57923799 0.54594889 0.01608579 0.02020202 0.90909091\n",
      "  0.14746544 0.3559322 ]\n",
      " [0.54112554 0.56595745 0.41747573 0.6146789  0.27272727 0.55102041\n",
      "  0.6        0.5        0.         0.32451751 0.11213627 0.07692308\n",
      "  0.38853755 0.23854224 0.17944535 0.         0.         0.21390374\n",
      "  0.63133641 0.40677966]]\n",
      "\n",
      "\n",
      "cluster indexes of each points are: \n",
      " [0 0 0 0 0 0 0 0 0 0 0 0 0 0 0 0 0 0 0 0 0 0 0 0 0 0 0 0 0 2 0 0 0 0 0 0 0\n",
      " 0 0 0 1 1 1 1 1 1 1 1 1 1 1 1 1 1 1 1 1 1 1 1 1 1 1 1 1 1 1 1 1 1 1 1 1 1\n",
      " 1 1 1 1 1 1 0 0 0 0 0 2 0 0 0 0 0 0 0 0 0 0 0 0 0 0 0 0 0 0 0 0 0 0 0 0 0\n",
      " 0 0 0 0 0 0 0 0 0 2 0 2 0 0 0 2 2 2 0 2 0 2 2 2 2 2 2 2 2 0 2 2 2 0 2 2 2\n",
      " 0 0 2 2 2 0 0 2 2 0 0 0 0 2 2 2 0 2 0 2 2 2 2 2 2 2 2 2 2 2 2 2 0 2 2 2 2\n",
      " 2 2 2 2 2 2 2 2 2 2 2 2 2 2 2 2 2 2 2 0 2 2 0 2 2 2 2 2 2 2 2 2 2 0 2 2 2\n",
      " 2 2 2 2 2 2 2 2 2 0 2 2 2 2 2 2 2 2 2 2 2 2 2 2 2 2 2 2 2 2 2 2 2 2 2 2 2\n",
      " 2 2 2 2 2 2 2 2 2 2 2 2 2 2 2 2 2 2 2 2 2 2 2 2 2 2 2 2 2 2 2 2 2 2 2 2 2\n",
      " 2 2 2 2 2 2 2 0 2 2 2 2 2 2 2 2 2 2 2 2 0 2 2 2 2 2 2 2 2 2 2 2 2 2 2 2 2\n",
      " 2 0 2 2 2 2 2 2 2 2 2 2 2 2 2 2 0 2 2 0 2 2 2 2 2 0 2 1 1 1 1 1 1 1 1 1 1\n",
      " 1 1 1 1 1 1 1 1 1 1 1 1 1 1 1 1 1 1 1 1 1 1 1 1 1 1 1 1 1 1]\n",
      "\n",
      "\n",
      "squared error is:  268.03114961968413\n",
      "\n",
      "silhouette score is:  0.2866231507068665\n"
     ]
    }
   ],
   "source": [
    "kmedoids = KMedoids(n_clusters=3,random_state=101)\n",
    "kmedoids.fit_predict(X)\n",
    "print(\"clusters centers are: \\n\",kmedoids.cluster_centers_)\n",
    "print(\"\\n\\ncluster indexes of each points are: \\n\",kmedoids.labels_)\n",
    "print(\"\\n\\nsquared error is: \",kmedoids.inertia_)\n",
    "print(\"\\nsilhouette score is: \",silhouette_score(X,kmedoids.labels_))"
   ]
  },
  {
   "cell_type": "markdown",
   "metadata": {},
   "source": [
    "## Fine tuning to improve result"
   ]
  },
  {
   "cell_type": "code",
   "execution_count": 14,
   "metadata": {},
   "outputs": [
    {
     "name": "stdout",
     "output_type": "stream",
     "text": [
      "                  fine-tuning        error  silhouette score\n",
      "0       random initialization   338.129153          0.095329\n",
      "1    heuristic initialization   268.031150          0.286623\n",
      "2  k-mediods++ initialization   247.862704          0.437009\n",
      "3          Manhattan distance  1086.449529          0.056381\n",
      "4             cosine distance    24.680752          0.428699\n",
      "5                max_iter=500    24.680752          0.428699\n"
     ]
    }
   ],
   "source": [
    "\n",
    "adj_data = []\n",
    "\n",
    "kmedoids1 = KMedoids(init=\"random\",n_clusters=3,random_state=101)\n",
    "kmedoids1.fit_predict(X)\n",
    "adj_data.append([\"random initialization\",kmedoids1.inertia_,silhouette_score(X,kmedoids1.labels_)])\n",
    "\n",
    "kmedoids2 = KMedoids(init=\"heuristic\",n_clusters=3,random_state=101)\n",
    "kmedoids2.fit_predict(X)\n",
    "adj_data.append([\"heuristic initialization\",kmedoids2.inertia_,silhouette_score(X,kmedoids2.labels_)])\n",
    "\n",
    "kmedoids3 = KMedoids(init=\"k-medoids++\",n_clusters=3,random_state=101)\n",
    "kmedoids3.fit_predict(X)\n",
    "adj_data.append([\"k-mediods++ initialization\",kmedoids3.inertia_,silhouette_score(X,kmedoids3.labels_)])\n",
    "\n",
    "kmedoids4 = KMedoids(n_clusters=3,metric=\"manhattan\",random_state=101)\n",
    "kmedoids4.fit_predict(X)\n",
    "adj_data.append([\"Manhattan distance\",kmedoids4.inertia_,silhouette_score(X,kmedoids4.labels_)])\n",
    "\n",
    "kmedoids5 = KMedoids(n_clusters=3,metric=\"cosine\",random_state=101)\n",
    "kmedoids5.fit_predict(X)\n",
    "adj_data.append([\"cosine distance\",kmedoids5.inertia_,silhouette_score(X,kmedoids5.labels_)])\n",
    "\n",
    "kmedoids6 = KMedoids(n_clusters=3,metric=\"cosine\",random_state=101)\n",
    "kmedoids6.fit_predict(X)\n",
    "adj_data.append([\"max_iter=500\",kmedoids6.inertia_,silhouette_score(X,kmedoids6.labels_)])\n",
    "\n",
    "adj_df = pd.DataFrame(data = adj_data,columns=[\"fine-tuning\",\"error\",\"silhouette score\"])\n",
    "print(adj_df)"
   ]
  },
  {
   "cell_type": "markdown",
   "metadata": {},
   "source": [
    "### in k medoids incresing maximum iterations and including cosine metrics seems to result in better performance."
   ]
  },
  {
   "cell_type": "code",
   "execution_count": null,
   "metadata": {},
   "outputs": [],
   "source": []
  }
 ],
 "metadata": {
  "kernelspec": {
   "display_name": "Python 3",
   "language": "python",
   "name": "python3"
  },
  "language_info": {
   "codemirror_mode": {
    "name": "ipython",
    "version": 3
   },
   "file_extension": ".py",
   "mimetype": "text/x-python",
   "name": "python",
   "nbconvert_exporter": "python",
   "pygments_lexer": "ipython3",
   "version": "3.6.10"
  }
 },
 "nbformat": 4,
 "nbformat_minor": 4
}
