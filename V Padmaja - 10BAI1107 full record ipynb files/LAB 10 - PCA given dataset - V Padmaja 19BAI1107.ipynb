{
 "cells": [
  {
   "cell_type": "markdown",
   "metadata": {},
   "source": [
    "# Padmaja 19BAI1107 - PCA given dataset\n"
   ]
  },
  {
   "cell_type": "markdown",
   "metadata": {},
   "source": [
    "# Importing Libraries"
   ]
  },
  {
   "cell_type": "code",
   "execution_count": 2,
   "metadata": {},
   "outputs": [],
   "source": [
    "import pandas as pd\n",
    "import numpy as np\n",
    "import seaborn as sns\n",
    "import matplotlib.pyplot as plt\n",
    "from distutils.version import LooseVersion as Version\n",
    "from sklearn import __version__ as sklearn_version"
   ]
  },
  {
   "cell_type": "markdown",
   "metadata": {},
   "source": [
    "# Loading dataset"
   ]
  },
  {
   "cell_type": "code",
   "execution_count": 4,
   "metadata": {},
   "outputs": [],
   "source": [
    "df=pd.read_excel(r'PCA_dataset.xlsx',engine='openpyxl')"
   ]
  },
  {
   "cell_type": "code",
   "execution_count": 3,
   "metadata": {},
   "outputs": [
    {
     "data": {
      "text/html": [
       "<div>\n",
       "<style scoped>\n",
       "    .dataframe tbody tr th:only-of-type {\n",
       "        vertical-align: middle;\n",
       "    }\n",
       "\n",
       "    .dataframe tbody tr th {\n",
       "        vertical-align: top;\n",
       "    }\n",
       "\n",
       "    .dataframe thead th {\n",
       "        text-align: right;\n",
       "    }\n",
       "</style>\n",
       "<table border=\"1\" class=\"dataframe\">\n",
       "  <thead>\n",
       "    <tr style=\"text-align: right;\">\n",
       "      <th></th>\n",
       "      <th>SampleNumber</th>\n",
       "      <th>P1</th>\n",
       "      <th>P2</th>\n",
       "      <th>P3</th>\n",
       "      <th>P4</th>\n",
       "      <th>P5</th>\n",
       "      <th>P6</th>\n",
       "      <th>P7</th>\n",
       "      <th>P8</th>\n",
       "      <th>P9</th>\n",
       "      <th>...</th>\n",
       "      <th>P12</th>\n",
       "      <th>P13</th>\n",
       "      <th>P14</th>\n",
       "      <th>P15</th>\n",
       "      <th>P16</th>\n",
       "      <th>P17</th>\n",
       "      <th>P18</th>\n",
       "      <th>P19</th>\n",
       "      <th>P20</th>\n",
       "      <th>Target Label</th>\n",
       "    </tr>\n",
       "  </thead>\n",
       "  <tbody>\n",
       "    <tr>\n",
       "      <th>0</th>\n",
       "      <td>1</td>\n",
       "      <td>3.30</td>\n",
       "      <td>7.44</td>\n",
       "      <td>1.52</td>\n",
       "      <td>3.27</td>\n",
       "      <td>0.07</td>\n",
       "      <td>2.14</td>\n",
       "      <td>0.75</td>\n",
       "      <td>0.66</td>\n",
       "      <td>0.0</td>\n",
       "      <td>...</td>\n",
       "      <td>50.7</td>\n",
       "      <td>6.55</td>\n",
       "      <td>4.09</td>\n",
       "      <td>4.26</td>\n",
       "      <td>0.01</td>\n",
       "      <td>0.00</td>\n",
       "      <td>24.7</td>\n",
       "      <td>2.7</td>\n",
       "      <td>1.6</td>\n",
       "      <td>V1</td>\n",
       "    </tr>\n",
       "    <tr>\n",
       "      <th>1</th>\n",
       "      <td>2</td>\n",
       "      <td>3.43</td>\n",
       "      <td>7.63</td>\n",
       "      <td>1.63</td>\n",
       "      <td>3.27</td>\n",
       "      <td>0.05</td>\n",
       "      <td>2.01</td>\n",
       "      <td>0.74</td>\n",
       "      <td>0.65</td>\n",
       "      <td>0.0</td>\n",
       "      <td>...</td>\n",
       "      <td>47.9</td>\n",
       "      <td>8.35</td>\n",
       "      <td>5.08</td>\n",
       "      <td>5.01</td>\n",
       "      <td>0.01</td>\n",
       "      <td>0.00</td>\n",
       "      <td>23.3</td>\n",
       "      <td>2.3</td>\n",
       "      <td>1.8</td>\n",
       "      <td>V1</td>\n",
       "    </tr>\n",
       "    <tr>\n",
       "      <th>2</th>\n",
       "      <td>3</td>\n",
       "      <td>3.41</td>\n",
       "      <td>7.32</td>\n",
       "      <td>1.52</td>\n",
       "      <td>3.18</td>\n",
       "      <td>0.07</td>\n",
       "      <td>2.09</td>\n",
       "      <td>0.80</td>\n",
       "      <td>0.70</td>\n",
       "      <td>0.0</td>\n",
       "      <td>...</td>\n",
       "      <td>54.4</td>\n",
       "      <td>9.27</td>\n",
       "      <td>6.85</td>\n",
       "      <td>7.14</td>\n",
       "      <td>0.19</td>\n",
       "      <td>0.06</td>\n",
       "      <td>25.0</td>\n",
       "      <td>2.5</td>\n",
       "      <td>-0.9</td>\n",
       "      <td>V1</td>\n",
       "    </tr>\n",
       "    <tr>\n",
       "      <th>3</th>\n",
       "      <td>4</td>\n",
       "      <td>3.78</td>\n",
       "      <td>7.85</td>\n",
       "      <td>1.69</td>\n",
       "      <td>3.35</td>\n",
       "      <td>0.03</td>\n",
       "      <td>1.98</td>\n",
       "      <td>0.77</td>\n",
       "      <td>0.67</td>\n",
       "      <td>0.0</td>\n",
       "      <td>...</td>\n",
       "      <td>48.9</td>\n",
       "      <td>10.26</td>\n",
       "      <td>5.96</td>\n",
       "      <td>5.47</td>\n",
       "      <td>0.05</td>\n",
       "      <td>0.01</td>\n",
       "      <td>24.1</td>\n",
       "      <td>5.6</td>\n",
       "      <td>2.1</td>\n",
       "      <td>V1</td>\n",
       "    </tr>\n",
       "    <tr>\n",
       "      <th>4</th>\n",
       "      <td>5</td>\n",
       "      <td>3.90</td>\n",
       "      <td>7.99</td>\n",
       "      <td>1.61</td>\n",
       "      <td>3.43</td>\n",
       "      <td>0.02</td>\n",
       "      <td>2.14</td>\n",
       "      <td>0.77</td>\n",
       "      <td>0.71</td>\n",
       "      <td>0.0</td>\n",
       "      <td>...</td>\n",
       "      <td>54.1</td>\n",
       "      <td>8.19</td>\n",
       "      <td>5.81</td>\n",
       "      <td>4.72</td>\n",
       "      <td>0.64</td>\n",
       "      <td>0.16</td>\n",
       "      <td>26.8</td>\n",
       "      <td>2.5</td>\n",
       "      <td>2.1</td>\n",
       "      <td>V1</td>\n",
       "    </tr>\n",
       "  </tbody>\n",
       "</table>\n",
       "<p>5 rows × 22 columns</p>\n",
       "</div>"
      ],
      "text/plain": [
       "   SampleNumber    P1    P2    P3    P4    P5    P6    P7    P8   P9  ...  \\\n",
       "0             1  3.30  7.44  1.52  3.27  0.07  2.14  0.75  0.66  0.0  ...   \n",
       "1             2  3.43  7.63  1.63  3.27  0.05  2.01  0.74  0.65  0.0  ...   \n",
       "2             3  3.41  7.32  1.52  3.18  0.07  2.09  0.80  0.70  0.0  ...   \n",
       "3             4  3.78  7.85  1.69  3.35  0.03  1.98  0.77  0.67  0.0  ...   \n",
       "4             5  3.90  7.99  1.61  3.43  0.02  2.14  0.77  0.71  0.0  ...   \n",
       "\n",
       "    P12    P13   P14   P15   P16   P17   P18  P19  P20  Target Label  \n",
       "0  50.7   6.55  4.09  4.26  0.01  0.00  24.7  2.7  1.6            V1  \n",
       "1  47.9   8.35  5.08  5.01  0.01  0.00  23.3  2.3  1.8            V1  \n",
       "2  54.4   9.27  6.85  7.14  0.19  0.06  25.0  2.5 -0.9            V1  \n",
       "3  48.9  10.26  5.96  5.47  0.05  0.01  24.1  5.6  2.1            V1  \n",
       "4  54.1   8.19  5.81  4.72  0.64  0.16  26.8  2.5  2.1            V1  \n",
       "\n",
       "[5 rows x 22 columns]"
      ]
     },
     "execution_count": 3,
     "metadata": {},
     "output_type": "execute_result"
    }
   ],
   "source": [
    "df.head()"
   ]
  },
  {
   "cell_type": "markdown",
   "metadata": {},
   "source": [
    "# Exploring the dataset"
   ]
  },
  {
   "cell_type": "code",
   "execution_count": 5,
   "metadata": {},
   "outputs": [
    {
     "name": "stdout",
     "output_type": "stream",
     "text": [
      "<class 'pandas.core.frame.DataFrame'>\n",
      "RangeIndex: 400 entries, 0 to 399\n",
      "Data columns (total 22 columns):\n",
      " #   Column        Non-Null Count  Dtype  \n",
      "---  ------        --------------  -----  \n",
      " 0   SampleNumber  400 non-null    int64  \n",
      " 1   P1            400 non-null    float64\n",
      " 2   P2            400 non-null    float64\n",
      " 3   P3            400 non-null    float64\n",
      " 4   P4            400 non-null    float64\n",
      " 5   P5            400 non-null    float64\n",
      " 6   P6            400 non-null    float64\n",
      " 7   P7            400 non-null    float64\n",
      " 8   P8            400 non-null    float64\n",
      " 9   P9            400 non-null    float64\n",
      " 10  P10           400 non-null    float64\n",
      " 11  P11           400 non-null    float64\n",
      " 12  P12           400 non-null    float64\n",
      " 13  P13           400 non-null    float64\n",
      " 14  P14           400 non-null    float64\n",
      " 15  P15           400 non-null    float64\n",
      " 16  P16           400 non-null    float64\n",
      " 17  P17           400 non-null    float64\n",
      " 18  P18           400 non-null    float64\n",
      " 19  P19           400 non-null    float64\n",
      " 20  P20           400 non-null    float64\n",
      " 21  Target Label  400 non-null    object \n",
      "dtypes: float64(20), int64(1), object(1)\n",
      "memory usage: 68.9+ KB\n"
     ]
    }
   ],
   "source": [
    "df.info()"
   ]
  },
  {
   "cell_type": "code",
   "execution_count": 6,
   "metadata": {},
   "outputs": [
    {
     "data": {
      "text/html": [
       "<div>\n",
       "<style scoped>\n",
       "    .dataframe tbody tr th:only-of-type {\n",
       "        vertical-align: middle;\n",
       "    }\n",
       "\n",
       "    .dataframe tbody tr th {\n",
       "        vertical-align: top;\n",
       "    }\n",
       "\n",
       "    .dataframe thead th {\n",
       "        text-align: right;\n",
       "    }\n",
       "</style>\n",
       "<table border=\"1\" class=\"dataframe\">\n",
       "  <thead>\n",
       "    <tr style=\"text-align: right;\">\n",
       "      <th></th>\n",
       "      <th>count</th>\n",
       "      <th>mean</th>\n",
       "      <th>std</th>\n",
       "      <th>min</th>\n",
       "      <th>25%</th>\n",
       "      <th>50%</th>\n",
       "      <th>75%</th>\n",
       "      <th>max</th>\n",
       "    </tr>\n",
       "  </thead>\n",
       "  <tbody>\n",
       "    <tr>\n",
       "      <th>SampleNumber</th>\n",
       "      <td>400.0</td>\n",
       "      <td>200.500000</td>\n",
       "      <td>115.614301</td>\n",
       "      <td>1.00</td>\n",
       "      <td>100.7500</td>\n",
       "      <td>200.500</td>\n",
       "      <td>300.2500</td>\n",
       "      <td>400.00</td>\n",
       "    </tr>\n",
       "    <tr>\n",
       "      <th>P1</th>\n",
       "      <td>400.0</td>\n",
       "      <td>3.441575</td>\n",
       "      <td>0.395690</td>\n",
       "      <td>2.41</td>\n",
       "      <td>3.1675</td>\n",
       "      <td>3.435</td>\n",
       "      <td>3.7100</td>\n",
       "      <td>4.72</td>\n",
       "    </tr>\n",
       "    <tr>\n",
       "      <th>P2</th>\n",
       "      <td>400.0</td>\n",
       "      <td>7.403225</td>\n",
       "      <td>0.421662</td>\n",
       "      <td>6.28</td>\n",
       "      <td>7.1000</td>\n",
       "      <td>7.420</td>\n",
       "      <td>7.7100</td>\n",
       "      <td>8.63</td>\n",
       "    </tr>\n",
       "    <tr>\n",
       "      <th>P3</th>\n",
       "      <td>400.0</td>\n",
       "      <td>1.595625</td>\n",
       "      <td>0.140773</td>\n",
       "      <td>1.18</td>\n",
       "      <td>1.5200</td>\n",
       "      <td>1.610</td>\n",
       "      <td>1.6900</td>\n",
       "      <td>2.21</td>\n",
       "    </tr>\n",
       "    <tr>\n",
       "      <th>P4</th>\n",
       "      <td>400.0</td>\n",
       "      <td>3.123400</td>\n",
       "      <td>0.196660</td>\n",
       "      <td>2.60</td>\n",
       "      <td>3.0000</td>\n",
       "      <td>3.100</td>\n",
       "      <td>3.2700</td>\n",
       "      <td>3.69</td>\n",
       "    </tr>\n",
       "    <tr>\n",
       "      <th>P5</th>\n",
       "      <td>400.0</td>\n",
       "      <td>0.056550</td>\n",
       "      <td>0.015188</td>\n",
       "      <td>0.02</td>\n",
       "      <td>0.0400</td>\n",
       "      <td>0.060</td>\n",
       "      <td>0.0700</td>\n",
       "      <td>0.13</td>\n",
       "    </tr>\n",
       "    <tr>\n",
       "      <th>P6</th>\n",
       "      <td>400.0</td>\n",
       "      <td>1.970525</td>\n",
       "      <td>0.196999</td>\n",
       "      <td>1.22</td>\n",
       "      <td>1.8700</td>\n",
       "      <td>1.980</td>\n",
       "      <td>2.0900</td>\n",
       "      <td>2.69</td>\n",
       "    </tr>\n",
       "    <tr>\n",
       "      <th>P7</th>\n",
       "      <td>400.0</td>\n",
       "      <td>0.787700</td>\n",
       "      <td>0.027931</td>\n",
       "      <td>0.67</td>\n",
       "      <td>0.7700</td>\n",
       "      <td>0.790</td>\n",
       "      <td>0.8100</td>\n",
       "      <td>0.87</td>\n",
       "    </tr>\n",
       "    <tr>\n",
       "      <th>P8</th>\n",
       "      <td>400.0</td>\n",
       "      <td>0.690450</td>\n",
       "      <td>0.017652</td>\n",
       "      <td>0.64</td>\n",
       "      <td>0.6800</td>\n",
       "      <td>0.690</td>\n",
       "      <td>0.7000</td>\n",
       "      <td>0.76</td>\n",
       "    </tr>\n",
       "    <tr>\n",
       "      <th>P9</th>\n",
       "      <td>400.0</td>\n",
       "      <td>0.020500</td>\n",
       "      <td>0.092878</td>\n",
       "      <td>0.00</td>\n",
       "      <td>0.0000</td>\n",
       "      <td>0.000</td>\n",
       "      <td>0.0000</td>\n",
       "      <td>0.60</td>\n",
       "    </tr>\n",
       "    <tr>\n",
       "      <th>P10</th>\n",
       "      <td>400.0</td>\n",
       "      <td>103.883750</td>\n",
       "      <td>40.779630</td>\n",
       "      <td>43.30</td>\n",
       "      <td>75.3500</td>\n",
       "      <td>95.000</td>\n",
       "      <td>119.9250</td>\n",
       "      <td>183.20</td>\n",
       "    </tr>\n",
       "    <tr>\n",
       "      <th>P11</th>\n",
       "      <td>400.0</td>\n",
       "      <td>81.321250</td>\n",
       "      <td>44.305153</td>\n",
       "      <td>42.60</td>\n",
       "      <td>53.6750</td>\n",
       "      <td>59.850</td>\n",
       "      <td>77.3500</td>\n",
       "      <td>183.50</td>\n",
       "    </tr>\n",
       "    <tr>\n",
       "      <th>P12</th>\n",
       "      <td>400.0</td>\n",
       "      <td>70.146250</td>\n",
       "      <td>36.149349</td>\n",
       "      <td>42.10</td>\n",
       "      <td>49.8000</td>\n",
       "      <td>53.200</td>\n",
       "      <td>60.6250</td>\n",
       "      <td>165.60</td>\n",
       "    </tr>\n",
       "    <tr>\n",
       "      <th>P13</th>\n",
       "      <td>400.0</td>\n",
       "      <td>13.666600</td>\n",
       "      <td>3.934187</td>\n",
       "      <td>5.70</td>\n",
       "      <td>10.9300</td>\n",
       "      <td>13.535</td>\n",
       "      <td>15.9225</td>\n",
       "      <td>31.00</td>\n",
       "    </tr>\n",
       "    <tr>\n",
       "      <th>P14</th>\n",
       "      <td>400.0</td>\n",
       "      <td>10.190050</td>\n",
       "      <td>3.384236</td>\n",
       "      <td>4.07</td>\n",
       "      <td>7.6075</td>\n",
       "      <td>9.840</td>\n",
       "      <td>12.4150</td>\n",
       "      <td>22.18</td>\n",
       "    </tr>\n",
       "    <tr>\n",
       "      <th>P15</th>\n",
       "      <td>400.0</td>\n",
       "      <td>8.399650</td>\n",
       "      <td>3.355070</td>\n",
       "      <td>3.49</td>\n",
       "      <td>6.0175</td>\n",
       "      <td>7.345</td>\n",
       "      <td>9.8250</td>\n",
       "      <td>21.88</td>\n",
       "    </tr>\n",
       "    <tr>\n",
       "      <th>P16</th>\n",
       "      <td>400.0</td>\n",
       "      <td>0.528475</td>\n",
       "      <td>1.017907</td>\n",
       "      <td>0.00</td>\n",
       "      <td>0.0000</td>\n",
       "      <td>0.010</td>\n",
       "      <td>0.2700</td>\n",
       "      <td>3.73</td>\n",
       "    </tr>\n",
       "    <tr>\n",
       "      <th>P17</th>\n",
       "      <td>400.0</td>\n",
       "      <td>0.155375</td>\n",
       "      <td>0.301290</td>\n",
       "      <td>0.00</td>\n",
       "      <td>0.0000</td>\n",
       "      <td>0.000</td>\n",
       "      <td>0.0725</td>\n",
       "      <td>0.99</td>\n",
       "    </tr>\n",
       "    <tr>\n",
       "      <th>P18</th>\n",
       "      <td>400.0</td>\n",
       "      <td>39.988250</td>\n",
       "      <td>16.699209</td>\n",
       "      <td>20.20</td>\n",
       "      <td>28.8750</td>\n",
       "      <td>33.500</td>\n",
       "      <td>41.7250</td>\n",
       "      <td>76.30</td>\n",
       "    </tr>\n",
       "    <tr>\n",
       "      <th>P19</th>\n",
       "      <td>400.0</td>\n",
       "      <td>10.069250</td>\n",
       "      <td>5.942395</td>\n",
       "      <td>0.10</td>\n",
       "      <td>3.8750</td>\n",
       "      <td>11.250</td>\n",
       "      <td>15.3250</td>\n",
       "      <td>21.80</td>\n",
       "    </tr>\n",
       "    <tr>\n",
       "      <th>P20</th>\n",
       "      <td>400.0</td>\n",
       "      <td>10.600000</td>\n",
       "      <td>6.213398</td>\n",
       "      <td>-0.90</td>\n",
       "      <td>6.4000</td>\n",
       "      <td>10.900</td>\n",
       "      <td>14.3250</td>\n",
       "      <td>28.60</td>\n",
       "    </tr>\n",
       "  </tbody>\n",
       "</table>\n",
       "</div>"
      ],
      "text/plain": [
       "              count        mean         std    min       25%      50%  \\\n",
       "SampleNumber  400.0  200.500000  115.614301   1.00  100.7500  200.500   \n",
       "P1            400.0    3.441575    0.395690   2.41    3.1675    3.435   \n",
       "P2            400.0    7.403225    0.421662   6.28    7.1000    7.420   \n",
       "P3            400.0    1.595625    0.140773   1.18    1.5200    1.610   \n",
       "P4            400.0    3.123400    0.196660   2.60    3.0000    3.100   \n",
       "P5            400.0    0.056550    0.015188   0.02    0.0400    0.060   \n",
       "P6            400.0    1.970525    0.196999   1.22    1.8700    1.980   \n",
       "P7            400.0    0.787700    0.027931   0.67    0.7700    0.790   \n",
       "P8            400.0    0.690450    0.017652   0.64    0.6800    0.690   \n",
       "P9            400.0    0.020500    0.092878   0.00    0.0000    0.000   \n",
       "P10           400.0  103.883750   40.779630  43.30   75.3500   95.000   \n",
       "P11           400.0   81.321250   44.305153  42.60   53.6750   59.850   \n",
       "P12           400.0   70.146250   36.149349  42.10   49.8000   53.200   \n",
       "P13           400.0   13.666600    3.934187   5.70   10.9300   13.535   \n",
       "P14           400.0   10.190050    3.384236   4.07    7.6075    9.840   \n",
       "P15           400.0    8.399650    3.355070   3.49    6.0175    7.345   \n",
       "P16           400.0    0.528475    1.017907   0.00    0.0000    0.010   \n",
       "P17           400.0    0.155375    0.301290   0.00    0.0000    0.000   \n",
       "P18           400.0   39.988250   16.699209  20.20   28.8750   33.500   \n",
       "P19           400.0   10.069250    5.942395   0.10    3.8750   11.250   \n",
       "P20           400.0   10.600000    6.213398  -0.90    6.4000   10.900   \n",
       "\n",
       "                   75%     max  \n",
       "SampleNumber  300.2500  400.00  \n",
       "P1              3.7100    4.72  \n",
       "P2              7.7100    8.63  \n",
       "P3              1.6900    2.21  \n",
       "P4              3.2700    3.69  \n",
       "P5              0.0700    0.13  \n",
       "P6              2.0900    2.69  \n",
       "P7              0.8100    0.87  \n",
       "P8              0.7000    0.76  \n",
       "P9              0.0000    0.60  \n",
       "P10           119.9250  183.20  \n",
       "P11            77.3500  183.50  \n",
       "P12            60.6250  165.60  \n",
       "P13            15.9225   31.00  \n",
       "P14            12.4150   22.18  \n",
       "P15             9.8250   21.88  \n",
       "P16             0.2700    3.73  \n",
       "P17             0.0725    0.99  \n",
       "P18            41.7250   76.30  \n",
       "P19            15.3250   21.80  \n",
       "P20            14.3250   28.60  "
      ]
     },
     "execution_count": 6,
     "metadata": {},
     "output_type": "execute_result"
    }
   ],
   "source": [
    "df.describe().transpose()"
   ]
  },
  {
   "cell_type": "markdown",
   "metadata": {},
   "source": [
    "# Transforming the Target Variable"
   ]
  },
  {
   "cell_type": "code",
   "execution_count": 8,
   "metadata": {},
   "outputs": [],
   "source": [
    "dict_diff={\n",
    "    'V1':1,'V2':2,'V3':3,'V4':4,'V5':5,'V6':6,'V7':7,'V8':8,'V9':9,'V10':10\n",
    "}"
   ]
  },
  {
   "cell_type": "code",
   "execution_count": 9,
   "metadata": {},
   "outputs": [],
   "source": [
    "df['Target Label']=df['Target Label'].apply(lambda x:dict_diff[x])"
   ]
  },
  {
   "cell_type": "code",
   "execution_count": 10,
   "metadata": {},
   "outputs": [
    {
     "data": {
      "text/html": [
       "<div>\n",
       "<style scoped>\n",
       "    .dataframe tbody tr th:only-of-type {\n",
       "        vertical-align: middle;\n",
       "    }\n",
       "\n",
       "    .dataframe tbody tr th {\n",
       "        vertical-align: top;\n",
       "    }\n",
       "\n",
       "    .dataframe thead th {\n",
       "        text-align: right;\n",
       "    }\n",
       "</style>\n",
       "<table border=\"1\" class=\"dataframe\">\n",
       "  <thead>\n",
       "    <tr style=\"text-align: right;\">\n",
       "      <th></th>\n",
       "      <th>SampleNumber</th>\n",
       "      <th>P1</th>\n",
       "      <th>P2</th>\n",
       "      <th>P3</th>\n",
       "      <th>P4</th>\n",
       "      <th>P5</th>\n",
       "      <th>P6</th>\n",
       "      <th>P7</th>\n",
       "      <th>P8</th>\n",
       "      <th>P9</th>\n",
       "      <th>...</th>\n",
       "      <th>P12</th>\n",
       "      <th>P13</th>\n",
       "      <th>P14</th>\n",
       "      <th>P15</th>\n",
       "      <th>P16</th>\n",
       "      <th>P17</th>\n",
       "      <th>P18</th>\n",
       "      <th>P19</th>\n",
       "      <th>P20</th>\n",
       "      <th>Target Label</th>\n",
       "    </tr>\n",
       "  </thead>\n",
       "  <tbody>\n",
       "    <tr>\n",
       "      <th>0</th>\n",
       "      <td>1</td>\n",
       "      <td>3.30</td>\n",
       "      <td>7.44</td>\n",
       "      <td>1.52</td>\n",
       "      <td>3.27</td>\n",
       "      <td>0.07</td>\n",
       "      <td>2.14</td>\n",
       "      <td>0.75</td>\n",
       "      <td>0.66</td>\n",
       "      <td>0.0</td>\n",
       "      <td>...</td>\n",
       "      <td>50.7</td>\n",
       "      <td>6.55</td>\n",
       "      <td>4.09</td>\n",
       "      <td>4.26</td>\n",
       "      <td>0.01</td>\n",
       "      <td>0.00</td>\n",
       "      <td>24.7</td>\n",
       "      <td>2.7</td>\n",
       "      <td>1.6</td>\n",
       "      <td>1</td>\n",
       "    </tr>\n",
       "    <tr>\n",
       "      <th>1</th>\n",
       "      <td>2</td>\n",
       "      <td>3.43</td>\n",
       "      <td>7.63</td>\n",
       "      <td>1.63</td>\n",
       "      <td>3.27</td>\n",
       "      <td>0.05</td>\n",
       "      <td>2.01</td>\n",
       "      <td>0.74</td>\n",
       "      <td>0.65</td>\n",
       "      <td>0.0</td>\n",
       "      <td>...</td>\n",
       "      <td>47.9</td>\n",
       "      <td>8.35</td>\n",
       "      <td>5.08</td>\n",
       "      <td>5.01</td>\n",
       "      <td>0.01</td>\n",
       "      <td>0.00</td>\n",
       "      <td>23.3</td>\n",
       "      <td>2.3</td>\n",
       "      <td>1.8</td>\n",
       "      <td>1</td>\n",
       "    </tr>\n",
       "    <tr>\n",
       "      <th>2</th>\n",
       "      <td>3</td>\n",
       "      <td>3.41</td>\n",
       "      <td>7.32</td>\n",
       "      <td>1.52</td>\n",
       "      <td>3.18</td>\n",
       "      <td>0.07</td>\n",
       "      <td>2.09</td>\n",
       "      <td>0.80</td>\n",
       "      <td>0.70</td>\n",
       "      <td>0.0</td>\n",
       "      <td>...</td>\n",
       "      <td>54.4</td>\n",
       "      <td>9.27</td>\n",
       "      <td>6.85</td>\n",
       "      <td>7.14</td>\n",
       "      <td>0.19</td>\n",
       "      <td>0.06</td>\n",
       "      <td>25.0</td>\n",
       "      <td>2.5</td>\n",
       "      <td>-0.9</td>\n",
       "      <td>1</td>\n",
       "    </tr>\n",
       "    <tr>\n",
       "      <th>3</th>\n",
       "      <td>4</td>\n",
       "      <td>3.78</td>\n",
       "      <td>7.85</td>\n",
       "      <td>1.69</td>\n",
       "      <td>3.35</td>\n",
       "      <td>0.03</td>\n",
       "      <td>1.98</td>\n",
       "      <td>0.77</td>\n",
       "      <td>0.67</td>\n",
       "      <td>0.0</td>\n",
       "      <td>...</td>\n",
       "      <td>48.9</td>\n",
       "      <td>10.26</td>\n",
       "      <td>5.96</td>\n",
       "      <td>5.47</td>\n",
       "      <td>0.05</td>\n",
       "      <td>0.01</td>\n",
       "      <td>24.1</td>\n",
       "      <td>5.6</td>\n",
       "      <td>2.1</td>\n",
       "      <td>1</td>\n",
       "    </tr>\n",
       "    <tr>\n",
       "      <th>4</th>\n",
       "      <td>5</td>\n",
       "      <td>3.90</td>\n",
       "      <td>7.99</td>\n",
       "      <td>1.61</td>\n",
       "      <td>3.43</td>\n",
       "      <td>0.02</td>\n",
       "      <td>2.14</td>\n",
       "      <td>0.77</td>\n",
       "      <td>0.71</td>\n",
       "      <td>0.0</td>\n",
       "      <td>...</td>\n",
       "      <td>54.1</td>\n",
       "      <td>8.19</td>\n",
       "      <td>5.81</td>\n",
       "      <td>4.72</td>\n",
       "      <td>0.64</td>\n",
       "      <td>0.16</td>\n",
       "      <td>26.8</td>\n",
       "      <td>2.5</td>\n",
       "      <td>2.1</td>\n",
       "      <td>1</td>\n",
       "    </tr>\n",
       "  </tbody>\n",
       "</table>\n",
       "<p>5 rows × 22 columns</p>\n",
       "</div>"
      ],
      "text/plain": [
       "   SampleNumber    P1    P2    P3    P4    P5    P6    P7    P8   P9  ...  \\\n",
       "0             1  3.30  7.44  1.52  3.27  0.07  2.14  0.75  0.66  0.0  ...   \n",
       "1             2  3.43  7.63  1.63  3.27  0.05  2.01  0.74  0.65  0.0  ...   \n",
       "2             3  3.41  7.32  1.52  3.18  0.07  2.09  0.80  0.70  0.0  ...   \n",
       "3             4  3.78  7.85  1.69  3.35  0.03  1.98  0.77  0.67  0.0  ...   \n",
       "4             5  3.90  7.99  1.61  3.43  0.02  2.14  0.77  0.71  0.0  ...   \n",
       "\n",
       "    P12    P13   P14   P15   P16   P17   P18  P19  P20  Target Label  \n",
       "0  50.7   6.55  4.09  4.26  0.01  0.00  24.7  2.7  1.6             1  \n",
       "1  47.9   8.35  5.08  5.01  0.01  0.00  23.3  2.3  1.8             1  \n",
       "2  54.4   9.27  6.85  7.14  0.19  0.06  25.0  2.5 -0.9             1  \n",
       "3  48.9  10.26  5.96  5.47  0.05  0.01  24.1  5.6  2.1             1  \n",
       "4  54.1   8.19  5.81  4.72  0.64  0.16  26.8  2.5  2.1             1  \n",
       "\n",
       "[5 rows x 22 columns]"
      ]
     },
     "execution_count": 10,
     "metadata": {},
     "output_type": "execute_result"
    }
   ],
   "source": [
    "df.head()"
   ]
  },
  {
   "cell_type": "code",
   "execution_count": 11,
   "metadata": {},
   "outputs": [
    {
     "data": {
      "text/html": [
       "<div>\n",
       "<style scoped>\n",
       "    .dataframe tbody tr th:only-of-type {\n",
       "        vertical-align: middle;\n",
       "    }\n",
       "\n",
       "    .dataframe tbody tr th {\n",
       "        vertical-align: top;\n",
       "    }\n",
       "\n",
       "    .dataframe thead th {\n",
       "        text-align: right;\n",
       "    }\n",
       "</style>\n",
       "<table border=\"1\" class=\"dataframe\">\n",
       "  <thead>\n",
       "    <tr style=\"text-align: right;\">\n",
       "      <th></th>\n",
       "      <th>SampleNumber</th>\n",
       "      <th>P1</th>\n",
       "      <th>P2</th>\n",
       "      <th>P3</th>\n",
       "      <th>P4</th>\n",
       "      <th>P5</th>\n",
       "      <th>P6</th>\n",
       "      <th>P7</th>\n",
       "      <th>P8</th>\n",
       "      <th>P9</th>\n",
       "      <th>...</th>\n",
       "      <th>P12</th>\n",
       "      <th>P13</th>\n",
       "      <th>P14</th>\n",
       "      <th>P15</th>\n",
       "      <th>P16</th>\n",
       "      <th>P17</th>\n",
       "      <th>P18</th>\n",
       "      <th>P19</th>\n",
       "      <th>P20</th>\n",
       "      <th>Target Label</th>\n",
       "    </tr>\n",
       "  </thead>\n",
       "  <tbody>\n",
       "    <tr>\n",
       "      <th>395</th>\n",
       "      <td>396</td>\n",
       "      <td>3.78</td>\n",
       "      <td>7.63</td>\n",
       "      <td>1.89</td>\n",
       "      <td>2.91</td>\n",
       "      <td>0.07</td>\n",
       "      <td>1.54</td>\n",
       "      <td>0.82</td>\n",
       "      <td>0.69</td>\n",
       "      <td>0.0</td>\n",
       "      <td>...</td>\n",
       "      <td>147.0</td>\n",
       "      <td>7.78</td>\n",
       "      <td>10.44</td>\n",
       "      <td>11.53</td>\n",
       "      <td>0.02</td>\n",
       "      <td>0.01</td>\n",
       "      <td>73.2</td>\n",
       "      <td>2.9</td>\n",
       "      <td>10.7</td>\n",
       "      <td>10</td>\n",
       "    </tr>\n",
       "    <tr>\n",
       "      <th>396</th>\n",
       "      <td>397</td>\n",
       "      <td>3.94</td>\n",
       "      <td>7.75</td>\n",
       "      <td>1.78</td>\n",
       "      <td>3.22</td>\n",
       "      <td>0.05</td>\n",
       "      <td>1.81</td>\n",
       "      <td>0.83</td>\n",
       "      <td>0.69</td>\n",
       "      <td>0.0</td>\n",
       "      <td>...</td>\n",
       "      <td>165.6</td>\n",
       "      <td>12.58</td>\n",
       "      <td>13.42</td>\n",
       "      <td>12.30</td>\n",
       "      <td>0.01</td>\n",
       "      <td>0.00</td>\n",
       "      <td>76.3</td>\n",
       "      <td>2.2</td>\n",
       "      <td>5.2</td>\n",
       "      <td>10</td>\n",
       "    </tr>\n",
       "    <tr>\n",
       "      <th>397</th>\n",
       "      <td>398</td>\n",
       "      <td>3.43</td>\n",
       "      <td>7.39</td>\n",
       "      <td>1.63</td>\n",
       "      <td>3.11</td>\n",
       "      <td>0.05</td>\n",
       "      <td>1.91</td>\n",
       "      <td>0.79</td>\n",
       "      <td>0.68</td>\n",
       "      <td>0.0</td>\n",
       "      <td>...</td>\n",
       "      <td>148.6</td>\n",
       "      <td>12.81</td>\n",
       "      <td>14.65</td>\n",
       "      <td>14.40</td>\n",
       "      <td>0.01</td>\n",
       "      <td>0.00</td>\n",
       "      <td>71.6</td>\n",
       "      <td>2.9</td>\n",
       "      <td>7.6</td>\n",
       "      <td>10</td>\n",
       "    </tr>\n",
       "    <tr>\n",
       "      <th>398</th>\n",
       "      <td>399</td>\n",
       "      <td>3.96</td>\n",
       "      <td>7.80</td>\n",
       "      <td>1.88</td>\n",
       "      <td>3.03</td>\n",
       "      <td>0.06</td>\n",
       "      <td>1.61</td>\n",
       "      <td>0.82</td>\n",
       "      <td>0.70</td>\n",
       "      <td>0.0</td>\n",
       "      <td>...</td>\n",
       "      <td>144.1</td>\n",
       "      <td>12.03</td>\n",
       "      <td>13.00</td>\n",
       "      <td>11.39</td>\n",
       "      <td>0.00</td>\n",
       "      <td>0.00</td>\n",
       "      <td>71.9</td>\n",
       "      <td>3.2</td>\n",
       "      <td>10.4</td>\n",
       "      <td>10</td>\n",
       "    </tr>\n",
       "    <tr>\n",
       "      <th>399</th>\n",
       "      <td>400</td>\n",
       "      <td>4.17</td>\n",
       "      <td>8.02</td>\n",
       "      <td>1.86</td>\n",
       "      <td>3.27</td>\n",
       "      <td>0.06</td>\n",
       "      <td>1.75</td>\n",
       "      <td>0.82</td>\n",
       "      <td>0.69</td>\n",
       "      <td>0.0</td>\n",
       "      <td>...</td>\n",
       "      <td>152.8</td>\n",
       "      <td>14.24</td>\n",
       "      <td>16.01</td>\n",
       "      <td>14.09</td>\n",
       "      <td>0.09</td>\n",
       "      <td>0.02</td>\n",
       "      <td>72.0</td>\n",
       "      <td>2.9</td>\n",
       "      <td>5.8</td>\n",
       "      <td>10</td>\n",
       "    </tr>\n",
       "  </tbody>\n",
       "</table>\n",
       "<p>5 rows × 22 columns</p>\n",
       "</div>"
      ],
      "text/plain": [
       "     SampleNumber    P1    P2    P3    P4    P5    P6    P7    P8   P9  ...  \\\n",
       "395           396  3.78  7.63  1.89  2.91  0.07  1.54  0.82  0.69  0.0  ...   \n",
       "396           397  3.94  7.75  1.78  3.22  0.05  1.81  0.83  0.69  0.0  ...   \n",
       "397           398  3.43  7.39  1.63  3.11  0.05  1.91  0.79  0.68  0.0  ...   \n",
       "398           399  3.96  7.80  1.88  3.03  0.06  1.61  0.82  0.70  0.0  ...   \n",
       "399           400  4.17  8.02  1.86  3.27  0.06  1.75  0.82  0.69  0.0  ...   \n",
       "\n",
       "       P12    P13    P14    P15   P16   P17   P18  P19   P20  Target Label  \n",
       "395  147.0   7.78  10.44  11.53  0.02  0.01  73.2  2.9  10.7            10  \n",
       "396  165.6  12.58  13.42  12.30  0.01  0.00  76.3  2.2   5.2            10  \n",
       "397  148.6  12.81  14.65  14.40  0.01  0.00  71.6  2.9   7.6            10  \n",
       "398  144.1  12.03  13.00  11.39  0.00  0.00  71.9  3.2  10.4            10  \n",
       "399  152.8  14.24  16.01  14.09  0.09  0.02  72.0  2.9   5.8            10  \n",
       "\n",
       "[5 rows x 22 columns]"
      ]
     },
     "execution_count": 11,
     "metadata": {},
     "output_type": "execute_result"
    }
   ],
   "source": [
    "df.tail()"
   ]
  },
  {
   "cell_type": "markdown",
   "metadata": {},
   "source": [
    "# Splitting into train and test set"
   ]
  },
  {
   "cell_type": "code",
   "execution_count": 12,
   "metadata": {},
   "outputs": [],
   "source": [
    "X=df.drop(labels=['SampleNumber','Target Label'],axis=1)\n",
    "y=df['Target Label']"
   ]
  },
  {
   "cell_type": "code",
   "execution_count": 13,
   "metadata": {},
   "outputs": [
    {
     "data": {
      "text/html": [
       "<div>\n",
       "<style scoped>\n",
       "    .dataframe tbody tr th:only-of-type {\n",
       "        vertical-align: middle;\n",
       "    }\n",
       "\n",
       "    .dataframe tbody tr th {\n",
       "        vertical-align: top;\n",
       "    }\n",
       "\n",
       "    .dataframe thead th {\n",
       "        text-align: right;\n",
       "    }\n",
       "</style>\n",
       "<table border=\"1\" class=\"dataframe\">\n",
       "  <thead>\n",
       "    <tr style=\"text-align: right;\">\n",
       "      <th></th>\n",
       "      <th>P1</th>\n",
       "      <th>P2</th>\n",
       "      <th>P3</th>\n",
       "      <th>P4</th>\n",
       "      <th>P5</th>\n",
       "      <th>P6</th>\n",
       "      <th>P7</th>\n",
       "      <th>P8</th>\n",
       "      <th>P9</th>\n",
       "      <th>P10</th>\n",
       "      <th>P11</th>\n",
       "      <th>P12</th>\n",
       "      <th>P13</th>\n",
       "      <th>P14</th>\n",
       "      <th>P15</th>\n",
       "      <th>P16</th>\n",
       "      <th>P17</th>\n",
       "      <th>P18</th>\n",
       "      <th>P19</th>\n",
       "      <th>P20</th>\n",
       "    </tr>\n",
       "  </thead>\n",
       "  <tbody>\n",
       "    <tr>\n",
       "      <th>0</th>\n",
       "      <td>3.30</td>\n",
       "      <td>7.44</td>\n",
       "      <td>1.52</td>\n",
       "      <td>3.27</td>\n",
       "      <td>0.07</td>\n",
       "      <td>2.14</td>\n",
       "      <td>0.75</td>\n",
       "      <td>0.66</td>\n",
       "      <td>0.0</td>\n",
       "      <td>54.8</td>\n",
       "      <td>49.7</td>\n",
       "      <td>50.7</td>\n",
       "      <td>6.55</td>\n",
       "      <td>4.09</td>\n",
       "      <td>4.26</td>\n",
       "      <td>0.01</td>\n",
       "      <td>0.00</td>\n",
       "      <td>24.7</td>\n",
       "      <td>2.7</td>\n",
       "      <td>1.6</td>\n",
       "    </tr>\n",
       "    <tr>\n",
       "      <th>1</th>\n",
       "      <td>3.43</td>\n",
       "      <td>7.63</td>\n",
       "      <td>1.63</td>\n",
       "      <td>3.27</td>\n",
       "      <td>0.05</td>\n",
       "      <td>2.01</td>\n",
       "      <td>0.74</td>\n",
       "      <td>0.65</td>\n",
       "      <td>0.0</td>\n",
       "      <td>51.8</td>\n",
       "      <td>47.3</td>\n",
       "      <td>47.9</td>\n",
       "      <td>8.35</td>\n",
       "      <td>5.08</td>\n",
       "      <td>5.01</td>\n",
       "      <td>0.01</td>\n",
       "      <td>0.00</td>\n",
       "      <td>23.3</td>\n",
       "      <td>2.3</td>\n",
       "      <td>1.8</td>\n",
       "    </tr>\n",
       "    <tr>\n",
       "      <th>2</th>\n",
       "      <td>3.41</td>\n",
       "      <td>7.32</td>\n",
       "      <td>1.52</td>\n",
       "      <td>3.18</td>\n",
       "      <td>0.07</td>\n",
       "      <td>2.09</td>\n",
       "      <td>0.80</td>\n",
       "      <td>0.70</td>\n",
       "      <td>0.0</td>\n",
       "      <td>54.0</td>\n",
       "      <td>50.5</td>\n",
       "      <td>54.4</td>\n",
       "      <td>9.27</td>\n",
       "      <td>6.85</td>\n",
       "      <td>7.14</td>\n",
       "      <td>0.19</td>\n",
       "      <td>0.06</td>\n",
       "      <td>25.0</td>\n",
       "      <td>2.5</td>\n",
       "      <td>-0.9</td>\n",
       "    </tr>\n",
       "    <tr>\n",
       "      <th>3</th>\n",
       "      <td>3.78</td>\n",
       "      <td>7.85</td>\n",
       "      <td>1.69</td>\n",
       "      <td>3.35</td>\n",
       "      <td>0.03</td>\n",
       "      <td>1.98</td>\n",
       "      <td>0.77</td>\n",
       "      <td>0.67</td>\n",
       "      <td>0.0</td>\n",
       "      <td>57.7</td>\n",
       "      <td>47.2</td>\n",
       "      <td>48.9</td>\n",
       "      <td>10.26</td>\n",
       "      <td>5.96</td>\n",
       "      <td>5.47</td>\n",
       "      <td>0.05</td>\n",
       "      <td>0.01</td>\n",
       "      <td>24.1</td>\n",
       "      <td>5.6</td>\n",
       "      <td>2.1</td>\n",
       "    </tr>\n",
       "    <tr>\n",
       "      <th>4</th>\n",
       "      <td>3.90</td>\n",
       "      <td>7.99</td>\n",
       "      <td>1.61</td>\n",
       "      <td>3.43</td>\n",
       "      <td>0.02</td>\n",
       "      <td>2.14</td>\n",
       "      <td>0.77</td>\n",
       "      <td>0.71</td>\n",
       "      <td>0.0</td>\n",
       "      <td>59.1</td>\n",
       "      <td>54.1</td>\n",
       "      <td>54.1</td>\n",
       "      <td>8.19</td>\n",
       "      <td>5.81</td>\n",
       "      <td>4.72</td>\n",
       "      <td>0.64</td>\n",
       "      <td>0.16</td>\n",
       "      <td>26.8</td>\n",
       "      <td>2.5</td>\n",
       "      <td>2.1</td>\n",
       "    </tr>\n",
       "    <tr>\n",
       "      <th>...</th>\n",
       "      <td>...</td>\n",
       "      <td>...</td>\n",
       "      <td>...</td>\n",
       "      <td>...</td>\n",
       "      <td>...</td>\n",
       "      <td>...</td>\n",
       "      <td>...</td>\n",
       "      <td>...</td>\n",
       "      <td>...</td>\n",
       "      <td>...</td>\n",
       "      <td>...</td>\n",
       "      <td>...</td>\n",
       "      <td>...</td>\n",
       "      <td>...</td>\n",
       "      <td>...</td>\n",
       "      <td>...</td>\n",
       "      <td>...</td>\n",
       "      <td>...</td>\n",
       "      <td>...</td>\n",
       "      <td>...</td>\n",
       "    </tr>\n",
       "    <tr>\n",
       "      <th>395</th>\n",
       "      <td>3.78</td>\n",
       "      <td>7.63</td>\n",
       "      <td>1.89</td>\n",
       "      <td>2.91</td>\n",
       "      <td>0.07</td>\n",
       "      <td>1.54</td>\n",
       "      <td>0.82</td>\n",
       "      <td>0.69</td>\n",
       "      <td>0.0</td>\n",
       "      <td>178.1</td>\n",
       "      <td>173.0</td>\n",
       "      <td>147.0</td>\n",
       "      <td>7.78</td>\n",
       "      <td>10.44</td>\n",
       "      <td>11.53</td>\n",
       "      <td>0.02</td>\n",
       "      <td>0.01</td>\n",
       "      <td>73.2</td>\n",
       "      <td>2.9</td>\n",
       "      <td>10.7</td>\n",
       "    </tr>\n",
       "    <tr>\n",
       "      <th>396</th>\n",
       "      <td>3.94</td>\n",
       "      <td>7.75</td>\n",
       "      <td>1.78</td>\n",
       "      <td>3.22</td>\n",
       "      <td>0.05</td>\n",
       "      <td>1.81</td>\n",
       "      <td>0.83</td>\n",
       "      <td>0.69</td>\n",
       "      <td>0.0</td>\n",
       "      <td>182.2</td>\n",
       "      <td>183.5</td>\n",
       "      <td>165.6</td>\n",
       "      <td>12.58</td>\n",
       "      <td>13.42</td>\n",
       "      <td>12.30</td>\n",
       "      <td>0.01</td>\n",
       "      <td>0.00</td>\n",
       "      <td>76.3</td>\n",
       "      <td>2.2</td>\n",
       "      <td>5.2</td>\n",
       "    </tr>\n",
       "    <tr>\n",
       "      <th>397</th>\n",
       "      <td>3.43</td>\n",
       "      <td>7.39</td>\n",
       "      <td>1.63</td>\n",
       "      <td>3.11</td>\n",
       "      <td>0.05</td>\n",
       "      <td>1.91</td>\n",
       "      <td>0.79</td>\n",
       "      <td>0.68</td>\n",
       "      <td>0.0</td>\n",
       "      <td>171.8</td>\n",
       "      <td>168.4</td>\n",
       "      <td>148.6</td>\n",
       "      <td>12.81</td>\n",
       "      <td>14.65</td>\n",
       "      <td>14.40</td>\n",
       "      <td>0.01</td>\n",
       "      <td>0.00</td>\n",
       "      <td>71.6</td>\n",
       "      <td>2.9</td>\n",
       "      <td>7.6</td>\n",
       "    </tr>\n",
       "    <tr>\n",
       "      <th>398</th>\n",
       "      <td>3.96</td>\n",
       "      <td>7.80</td>\n",
       "      <td>1.88</td>\n",
       "      <td>3.03</td>\n",
       "      <td>0.06</td>\n",
       "      <td>1.61</td>\n",
       "      <td>0.82</td>\n",
       "      <td>0.70</td>\n",
       "      <td>0.0</td>\n",
       "      <td>175.0</td>\n",
       "      <td>168.9</td>\n",
       "      <td>144.1</td>\n",
       "      <td>12.03</td>\n",
       "      <td>13.00</td>\n",
       "      <td>11.39</td>\n",
       "      <td>0.00</td>\n",
       "      <td>0.00</td>\n",
       "      <td>71.9</td>\n",
       "      <td>3.2</td>\n",
       "      <td>10.4</td>\n",
       "    </tr>\n",
       "    <tr>\n",
       "      <th>399</th>\n",
       "      <td>4.17</td>\n",
       "      <td>8.02</td>\n",
       "      <td>1.86</td>\n",
       "      <td>3.27</td>\n",
       "      <td>0.06</td>\n",
       "      <td>1.75</td>\n",
       "      <td>0.82</td>\n",
       "      <td>0.69</td>\n",
       "      <td>0.0</td>\n",
       "      <td>171.7</td>\n",
       "      <td>169.5</td>\n",
       "      <td>152.8</td>\n",
       "      <td>14.24</td>\n",
       "      <td>16.01</td>\n",
       "      <td>14.09</td>\n",
       "      <td>0.09</td>\n",
       "      <td>0.02</td>\n",
       "      <td>72.0</td>\n",
       "      <td>2.9</td>\n",
       "      <td>5.8</td>\n",
       "    </tr>\n",
       "  </tbody>\n",
       "</table>\n",
       "<p>400 rows × 20 columns</p>\n",
       "</div>"
      ],
      "text/plain": [
       "       P1    P2    P3    P4    P5    P6    P7    P8   P9    P10    P11    P12  \\\n",
       "0    3.30  7.44  1.52  3.27  0.07  2.14  0.75  0.66  0.0   54.8   49.7   50.7   \n",
       "1    3.43  7.63  1.63  3.27  0.05  2.01  0.74  0.65  0.0   51.8   47.3   47.9   \n",
       "2    3.41  7.32  1.52  3.18  0.07  2.09  0.80  0.70  0.0   54.0   50.5   54.4   \n",
       "3    3.78  7.85  1.69  3.35  0.03  1.98  0.77  0.67  0.0   57.7   47.2   48.9   \n",
       "4    3.90  7.99  1.61  3.43  0.02  2.14  0.77  0.71  0.0   59.1   54.1   54.1   \n",
       "..    ...   ...   ...   ...   ...   ...   ...   ...  ...    ...    ...    ...   \n",
       "395  3.78  7.63  1.89  2.91  0.07  1.54  0.82  0.69  0.0  178.1  173.0  147.0   \n",
       "396  3.94  7.75  1.78  3.22  0.05  1.81  0.83  0.69  0.0  182.2  183.5  165.6   \n",
       "397  3.43  7.39  1.63  3.11  0.05  1.91  0.79  0.68  0.0  171.8  168.4  148.6   \n",
       "398  3.96  7.80  1.88  3.03  0.06  1.61  0.82  0.70  0.0  175.0  168.9  144.1   \n",
       "399  4.17  8.02  1.86  3.27  0.06  1.75  0.82  0.69  0.0  171.7  169.5  152.8   \n",
       "\n",
       "       P13    P14    P15   P16   P17   P18  P19   P20  \n",
       "0     6.55   4.09   4.26  0.01  0.00  24.7  2.7   1.6  \n",
       "1     8.35   5.08   5.01  0.01  0.00  23.3  2.3   1.8  \n",
       "2     9.27   6.85   7.14  0.19  0.06  25.0  2.5  -0.9  \n",
       "3    10.26   5.96   5.47  0.05  0.01  24.1  5.6   2.1  \n",
       "4     8.19   5.81   4.72  0.64  0.16  26.8  2.5   2.1  \n",
       "..     ...    ...    ...   ...   ...   ...  ...   ...  \n",
       "395   7.78  10.44  11.53  0.02  0.01  73.2  2.9  10.7  \n",
       "396  12.58  13.42  12.30  0.01  0.00  76.3  2.2   5.2  \n",
       "397  12.81  14.65  14.40  0.01  0.00  71.6  2.9   7.6  \n",
       "398  12.03  13.00  11.39  0.00  0.00  71.9  3.2  10.4  \n",
       "399  14.24  16.01  14.09  0.09  0.02  72.0  2.9   5.8  \n",
       "\n",
       "[400 rows x 20 columns]"
      ]
     },
     "execution_count": 13,
     "metadata": {},
     "output_type": "execute_result"
    }
   ],
   "source": [
    "X"
   ]
  },
  {
   "cell_type": "code",
   "execution_count": 14,
   "metadata": {},
   "outputs": [
    {
     "data": {
      "text/plain": [
       "0       1\n",
       "1       1\n",
       "2       1\n",
       "3       1\n",
       "4       1\n",
       "       ..\n",
       "395    10\n",
       "396    10\n",
       "397    10\n",
       "398    10\n",
       "399    10\n",
       "Name: Target Label, Length: 400, dtype: int64"
      ]
     },
     "execution_count": 14,
     "metadata": {},
     "output_type": "execute_result"
    }
   ],
   "source": [
    "y"
   ]
  },
  {
   "cell_type": "code",
   "execution_count": 15,
   "metadata": {},
   "outputs": [],
   "source": [
    "#Importing train test split\n",
    "from sklearn.model_selection import train_test_split"
   ]
  },
  {
   "cell_type": "code",
   "execution_count": 16,
   "metadata": {},
   "outputs": [],
   "source": [
    "X_train,X_test,y_train,y_test=train_test_split(X,y,test_size=0.3,random_state=101)"
   ]
  },
  {
   "cell_type": "markdown",
   "metadata": {},
   "source": [
    "# Scaling the data"
   ]
  },
  {
   "cell_type": "code",
   "execution_count": 17,
   "metadata": {},
   "outputs": [],
   "source": [
    "#Using standard scalar\n",
    "from sklearn.preprocessing import StandardScaler\n",
    "scaler=StandardScaler()\n",
    "X_train=scaler.fit_transform(X_train)\n",
    "X_test=scaler.transform(X_test)"
   ]
  },
  {
   "cell_type": "markdown",
   "metadata": {},
   "source": [
    "# Eigen decomposition of the covariance matrix."
   ]
  },
  {
   "cell_type": "code",
   "execution_count": 18,
   "metadata": {},
   "outputs": [
    {
     "name": "stdout",
     "output_type": "stream",
     "text": [
      "\n",
      "Eigenvalues \n",
      "[6.37513314e+00 3.48795668e+00 2.52761010e+00 2.33372252e+00\n",
      " 1.33109968e+00 1.11797712e+00 9.05580354e-01 8.18514400e-01\n",
      " 7.09417739e-01 2.12390161e-01 1.38121340e-01 7.17153261e-02\n",
      " 2.36387553e-02 8.38990973e-03 6.66384891e-03 2.07332567e-03\n",
      " 1.29016620e-03 2.67080501e-04 1.08640812e-04 1.43077979e-05]\n"
     ]
    }
   ],
   "source": [
    "import numpy as np\n",
    "cov_mat = np.cov(X_train.T)\n",
    "eigen_vals, eigen_vecs = np.linalg.eig(cov_mat)\n",
    "\n",
    "print('\\nEigenvalues \\n%s' % eigen_vals)"
   ]
  },
  {
   "cell_type": "markdown",
   "metadata": {},
   "source": [
    "# Total and explained variance"
   ]
  },
  {
   "cell_type": "code",
   "execution_count": 19,
   "metadata": {},
   "outputs": [],
   "source": [
    "tot = sum(eigen_vals)\n",
    "var_exp = [(i / tot) for i in sorted(eigen_vals, reverse=True)]\n",
    "cum_var_exp = np.cumsum(var_exp)"
   ]
  },
  {
   "cell_type": "markdown",
   "metadata": {},
   "source": [
    "# Feature Transform"
   ]
  },
  {
   "cell_type": "code",
   "execution_count": 20,
   "metadata": {},
   "outputs": [],
   "source": [
    "# Make a list of (eigenvalue, eigenvector) tuples\n",
    "eigen_pairs = [(np.abs(eigen_vals[i]), eigen_vecs[:, i])\n",
    "               for i in range(len(eigen_vals))]\n",
    "\n",
    "# Sort the (eigenvalue, eigenvector) tuples from high to low\n",
    "eigen_pairs.sort(key=lambda k: k[0], reverse=True)\n",
    "\n",
    "# Note: The aut added the `key=lambda k: k[0]` in the sort call above\n",
    "# This is to avoid problems if there are ties in the eigenvalue\n",
    "# arrays (i.e., the sorting algorithm will only regard the\n",
    "# first element of the tuples, now)."
   ]
  },
  {
   "cell_type": "code",
   "execution_count": 21,
   "metadata": {},
   "outputs": [
    {
     "name": "stdout",
     "output_type": "stream",
     "text": [
      "Matrix W:\n",
      " [[-0.24650629 -0.16821983]\n",
      " [-0.20783049 -0.22419444]\n",
      " [-0.20872158 -0.04785621]\n",
      " [-0.13848294 -0.25548324]\n",
      " [ 0.00315941  0.02893874]\n",
      " [ 0.08754751 -0.12813991]\n",
      " [-0.11193945  0.18611682]\n",
      " [-0.0896354   0.02639491]\n",
      " [ 0.06213814 -0.13328931]\n",
      " [-0.3530288   0.16847998]\n",
      " [-0.37385203  0.03093823]\n",
      " [-0.3716999  -0.03617245]\n",
      " [-0.00585241  0.3196547 ]\n",
      " [-0.3006498   0.23144062]\n",
      " [-0.35486855  0.01457958]\n",
      " [ 0.05967395  0.35130619]\n",
      " [ 0.06683179  0.3685069 ]\n",
      " [-0.37053719  0.08704659]\n",
      " [ 0.17527785  0.3697294 ]\n",
      " [-0.07898704  0.43979502]]\n"
     ]
    }
   ],
   "source": [
    "w = np.hstack((eigen_pairs[0][1][:, np.newaxis],\n",
    "               eigen_pairs[1][1][:, np.newaxis]))\n",
    "print('Matrix W:\\n', w)"
   ]
  },
  {
   "cell_type": "code",
   "execution_count": 22,
   "metadata": {},
   "outputs": [
    {
     "data": {
      "image/png": "[encoded data removed]",
      "text/plain": [
       "<Figure size 432x288 with 1 Axes>"
      ]
     },
     "metadata": {
      "needs_background": "light"
     },
     "output_type": "display_data"
    }
   ],
   "source": [
    "X_train_pca = X_train.dot(w)\n",
    "colors = ['r', 'b', 'g']\n",
    "markers = ['s', 'x', 'o']\n",
    "\n",
    "for l, c, m in zip(np.unique(y_train), colors, markers):\n",
    "    plt.scatter(X_train_pca[y_train == l, 0], \n",
    "                X_train_pca[y_train == l, 1], \n",
    "                c=c, label=l, marker=m)\n",
    "\n",
    "plt.xlabel('PC 1')\n",
    "plt.ylabel('PC 2')\n",
    "plt.legend(loc='lower left')\n",
    "plt.tight_layout()\n",
    "# plt.savefig('./figures/pca2.png', dpi=300)\n",
    "plt.show()"
   ]
  },
  {
   "cell_type": "code",
   "execution_count": 23,
   "metadata": {},
   "outputs": [
    {
     "data": {
      "text/plain": [
       "array([1.35035033, 1.15188842])"
      ]
     },
     "execution_count": 23,
     "metadata": {},
     "output_type": "execute_result"
    }
   ],
   "source": [
    "X_train[0].dot(w)"
   ]
  },
  {
   "cell_type": "markdown",
   "metadata": {},
   "source": [
    "# Principal component analysis in scikit-learn"
   ]
  },
  {
   "cell_type": "code",
   "execution_count": 24,
   "metadata": {},
   "outputs": [
    {
     "data": {
      "text/plain": [
       "array([3.17618241e-01, 1.73774985e-01, 1.25929146e-01, 1.16269390e-01,\n",
       "       6.63172874e-02, 5.56992170e-02, 4.51173069e-02, 4.07795567e-02,\n",
       "       3.53442052e-02, 1.05815812e-02, 6.88140248e-03, 3.57296000e-03,\n",
       "       1.17771656e-03, 4.17997288e-04, 3.32002473e-04, 1.03296047e-04,\n",
       "       6.42779231e-05, 1.33063321e-05, 5.41264044e-06, 7.12834933e-07])"
      ]
     },
     "execution_count": 24,
     "metadata": {},
     "output_type": "execute_result"
    }
   ],
   "source": [
    "from sklearn.decomposition import PCA\n",
    "\n",
    "pca = PCA()\n",
    "X_train_pca = pca.fit_transform(X_train)\n",
    "pca.explained_variance_ratio_"
   ]
  },
  {
   "cell_type": "code",
   "execution_count": 25,
   "metadata": {},
   "outputs": [],
   "source": [
    "pca = PCA(n_components=2)\n",
    "X_train_pca = pca.fit_transform(X_train)\n",
    "X_test_pca = pca.transform(X_test)"
   ]
  },
  {
   "cell_type": "code",
   "execution_count": 26,
   "metadata": {},
   "outputs": [
    {
     "data": {
      "image/png": "[encoded data removed]",
      "text/plain": [
       "<Figure size 432x288 with 1 Axes>"
      ]
     },
     "metadata": {
      "needs_background": "light"
     },
     "output_type": "display_data"
    }
   ],
   "source": [
    "plt.scatter(X_train_pca[:, 0], X_train_pca[:, 1])\n",
    "plt.xlabel('PC 1')\n",
    "plt.ylabel('PC 2')\n",
    "plt.show()"
   ]
  },
  {
   "cell_type": "code",
   "execution_count": 27,
   "metadata": {},
   "outputs": [],
   "source": [
    "from matplotlib.colors import ListedColormap\n",
    "\n",
    "def plot_decision_regions(X, y, classifier, resolution=0.02):\n",
    "\n",
    "    # setup marker generator and color map\n",
    "    markers = ('s', 'x', 'o', '^', 'v')\n",
    "    colors = ('red', 'blue', 'lightgreen', 'gray', 'cyan')\n",
    "    cmap = ListedColormap(colors[:len(np.unique(y))])\n",
    "\n",
    "    # plot the decision surface\n",
    "    x1_min, x1_max = X[:, 0].min() - 1, X[:, 0].max() + 1\n",
    "    x2_min, x2_max = X[:, 1].min() - 1, X[:, 1].max() + 1\n",
    "    xx1, xx2 = np.meshgrid(np.arange(x1_min, x1_max, resolution),\n",
    "                           np.arange(x2_min, x2_max, resolution))\n",
    "    Z = classifier.predict(np.array([xx1.ravel(), xx2.ravel()]).T)\n",
    "    Z = Z.reshape(xx1.shape)\n",
    "    plt.contourf(xx1, xx2, Z, alpha=0.4, cmap=cmap)\n",
    "    plt.xlim(xx1.min(), xx1.max())\n",
    "    plt.ylim(xx2.min(), xx2.max())\n",
    "\n",
    "    # plot class samples\n",
    "    for idx, cl in enumerate(np.unique(y)):\n",
    "        plt.scatter(x=X[y == cl, 0], \n",
    "                    y=X[y == cl, 1],\n",
    "                    alpha=0.6, \n",
    "                    c=cmap(idx),\n",
    "                    edgecolor='black',\n",
    "                    marker=markers[idx], \n",
    "                    label=cl)"
   ]
  },
  {
   "cell_type": "markdown",
   "metadata": {},
   "source": [
    "# PCA with GridSearchCV"
   ]
  },
  {
   "cell_type": "code",
   "execution_count": 28,
   "metadata": {},
   "outputs": [],
   "source": [
    "from sklearn.decomposition import PCA\n",
    "pca=PCA()\n",
    "param_grid={'n_components':[1,2,3,4,5,6,7,8,9,10]}\n",
    "#Importing GridSearch\n",
    "from sklearn.model_selection import GridSearchCV"
   ]
  },
  {
   "cell_type": "code",
   "execution_count": 29,
   "metadata": {},
   "outputs": [],
   "source": [
    "g=GridSearchCV(pca,param_grid=param_grid)"
   ]
  },
  {
   "cell_type": "code",
   "execution_count": 30,
   "metadata": {},
   "outputs": [
    {
     "data": {
      "text/plain": [
       "GridSearchCV(estimator=PCA(),\n",
       "             param_grid={'n_components': [1, 2, 3, 4, 5, 6, 7, 8, 9, 10]})"
      ]
     },
     "execution_count": 30,
     "metadata": {},
     "output_type": "execute_result"
    }
   ],
   "source": [
    "g.fit(X_train,y_train)"
   ]
  },
  {
   "cell_type": "code",
   "execution_count": 31,
   "metadata": {},
   "outputs": [
    {
     "data": {
      "text/plain": [
       "{'n_components': 10}"
      ]
     },
     "execution_count": 31,
     "metadata": {},
     "output_type": "execute_result"
    }
   ],
   "source": [
    "g.best_params_  #so we will be using n_components as 10 in our model"
   ]
  },
  {
   "cell_type": "markdown",
   "metadata": {},
   "source": [
    "# Creating model after finding best parameters"
   ]
  },
  {
   "cell_type": "code",
   "execution_count": 32,
   "metadata": {},
   "outputs": [],
   "source": [
    "#using PCA with best parameters\n",
    "pca=PCA(n_components=10)\n",
    "X_train=pca.fit_transform(X_train)\n",
    "X_test=pca.transform(X_test)"
   ]
  },
  {
   "cell_type": "code",
   "execution_count": 35,
   "metadata": {},
   "outputs": [],
   "source": [
    "#Importing the testing dataset\n",
    "df1=pd.read_excel(r'PCA_dataset.xlsx', sheet_name='TestingSet',engine='openpyxl')"
   ]
  },
  {
   "cell_type": "code",
   "execution_count": 36,
   "metadata": {},
   "outputs": [],
   "source": [
    "X1=df1.drop(labels=['SampleNumber','Target Label'],axis=1)\n",
    "y1=df1['Target Label'].apply(lambda x: dict_diff[x])\n"
   ]
  },
  {
   "cell_type": "code",
   "execution_count": 37,
   "metadata": {},
   "outputs": [],
   "source": [
    "#For Testing\n",
    "X1=scaler.transform(X1)\n",
    "X1=pca.transform(X1)"
   ]
  },
  {
   "cell_type": "markdown",
   "metadata": {},
   "source": [
    "# Using Random Forests"
   ]
  },
  {
   "cell_type": "code",
   "execution_count": 38,
   "metadata": {},
   "outputs": [],
   "source": [
    "from sklearn.ensemble import RandomForestClassifier\n",
    "rfc=RandomForestClassifier()"
   ]
  },
  {
   "cell_type": "code",
   "execution_count": 39,
   "metadata": {},
   "outputs": [
    {
     "data": {
      "text/plain": [
       "RandomForestClassifier()"
      ]
     },
     "execution_count": 39,
     "metadata": {},
     "output_type": "execute_result"
    }
   ],
   "source": [
    "rfc.fit(X_train,y_train)"
   ]
  },
  {
   "cell_type": "code",
   "execution_count": 40,
   "metadata": {},
   "outputs": [],
   "source": [
    "#Getting Predictions:\n",
    "rfcpred=rfc.predict(X1)\n"
   ]
  },
  {
   "cell_type": "markdown",
   "metadata": {},
   "source": [
    "# Evaluating Random Forests"
   ]
  },
  {
   "cell_type": "code",
   "execution_count": 41,
   "metadata": {},
   "outputs": [],
   "source": [
    "from sklearn.metrics import accuracy_score,confusion_matrix,plot_confusion_matrix,classification_report"
   ]
  },
  {
   "cell_type": "code",
   "execution_count": 42,
   "metadata": {},
   "outputs": [
    {
     "name": "stdout",
     "output_type": "stream",
     "text": [
      "[[7 0 3 0 0 0 0 0 0 0]\n",
      " [0 8 0 0 0 0 0 0 0 2]\n",
      " [4 0 6 0 0 0 0 0 0 0]\n",
      " [0 0 0 8 0 2 0 0 0 0]\n",
      " [0 0 0 2 0 0 5 3 0 0]\n",
      " [0 0 0 1 1 4 0 2 2 0]\n",
      " [0 0 0 0 0 0 5 5 0 0]\n",
      " [0 0 0 1 0 0 1 8 0 0]\n",
      " [0 0 0 3 1 0 0 3 3 0]\n",
      " [0 1 0 0 0 0 0 0 0 9]]\n"
     ]
    }
   ],
   "source": [
    "print(confusion_matrix(y1,rfcpred))"
   ]
  },
  {
   "cell_type": "code",
   "execution_count": 43,
   "metadata": {},
   "outputs": [
    {
     "name": "stdout",
     "output_type": "stream",
     "text": [
      "0.58\n"
     ]
    }
   ],
   "source": [
    "a1=accuracy_score(y1,rfcpred)\n",
    "print(a1)"
   ]
  },
  {
   "cell_type": "code",
   "execution_count": 44,
   "metadata": {},
   "outputs": [
    {
     "name": "stdout",
     "output_type": "stream",
     "text": [
      "              precision    recall  f1-score   support\n",
      "\n",
      "           1       0.64      0.70      0.67        10\n",
      "           2       0.89      0.80      0.84        10\n",
      "           3       0.67      0.60      0.63        10\n",
      "           4       0.53      0.80      0.64        10\n",
      "           5       0.00      0.00      0.00        10\n",
      "           6       0.67      0.40      0.50        10\n",
      "           7       0.45      0.50      0.48        10\n",
      "           8       0.38      0.80      0.52        10\n",
      "           9       0.60      0.30      0.40        10\n",
      "          10       0.82      0.90      0.86        10\n",
      "\n",
      "    accuracy                           0.58       100\n",
      "   macro avg       0.56      0.58      0.55       100\n",
      "weighted avg       0.56      0.58      0.55       100\n",
      "\n"
     ]
    }
   ],
   "source": [
    "print(classification_report(y1,rfcpred))"
   ]
  },
  {
   "cell_type": "code",
   "execution_count": 45,
   "metadata": {},
   "outputs": [
    {
     "data": {
      "text/plain": [
       "<sklearn.metrics._plot.confusion_matrix.ConfusionMatrixDisplay at 0x2c0c0bfeba8>"
      ]
     },
     "execution_count": 45,
     "metadata": {},
     "output_type": "execute_result"
    },
    {
     "data": {
      "image/png": "[encoded data removed]",
      "text/plain": [
       "<Figure size 432x288 with 2 Axes>"
      ]
     },
     "metadata": {
      "needs_background": "light"
     },
     "output_type": "display_data"
    }
   ],
   "source": [
    "plot_confusion_matrix(rfc,X1,y1)"
   ]
  },
  {
   "cell_type": "code",
   "execution_count": 46,
   "metadata": {},
   "outputs": [],
   "source": [
    "#Defining a function for showing results:(for future models so we dont have to keep typing the same set of commands)\n",
    "def result(model,prediction):\n",
    "    print('Accuracy Score:',accuracy_score(y1,prediction))\n",
    "    print('\\n')\n",
    "    print('Confusion Matrix:\\n',confusion_matrix(y1,prediction))\n",
    "    print('\\n')\n",
    "    print('Classification report:\\n',classification_report(y1,prediction))\n",
    "    plot_confusion_matrix(model,X1,y1)"
   ]
  },
  {
   "cell_type": "markdown",
   "metadata": {},
   "source": [
    "# Using SVC"
   ]
  },
  {
   "cell_type": "code",
   "execution_count": 47,
   "metadata": {},
   "outputs": [],
   "source": [
    "from sklearn.svm import SVC"
   ]
  },
  {
   "cell_type": "code",
   "execution_count": 48,
   "metadata": {},
   "outputs": [],
   "source": [
    "svc=SVC()\n",
    "svc.fit(X_train,y_train)\n",
    "svc_pred=svc.predict(X1)"
   ]
  },
  {
   "cell_type": "markdown",
   "metadata": {},
   "source": [
    "# Evaluating SVC"
   ]
  },
  {
   "cell_type": "code",
   "execution_count": 49,
   "metadata": {},
   "outputs": [
    {
     "name": "stdout",
     "output_type": "stream",
     "text": [
      "0.51\n"
     ]
    }
   ],
   "source": [
    "a2=accuracy_score(y1,svc_pred)\n",
    "print(a2)"
   ]
  },
  {
   "cell_type": "code",
   "execution_count": 50,
   "metadata": {},
   "outputs": [
    {
     "name": "stdout",
     "output_type": "stream",
     "text": [
      "Accuracy Score: 0.51\n",
      "\n",
      "\n",
      "Confusion Matrix:\n",
      " [[7 0 3 0 0 0 0 0 0 0]\n",
      " [0 0 2 0 0 7 0 0 0 1]\n",
      " [5 0 5 0 0 0 0 0 0 0]\n",
      " [0 0 0 8 0 2 0 0 0 0]\n",
      " [0 0 0 2 0 0 5 3 0 0]\n",
      " [0 0 0 2 2 4 0 0 2 0]\n",
      " [0 0 0 0 0 0 6 4 0 0]\n",
      " [0 0 0 1 0 0 1 8 0 0]\n",
      " [0 0 0 3 1 2 0 0 4 0]\n",
      " [0 1 0 0 0 0 0 0 0 9]]\n",
      "\n",
      "\n",
      "Classification report:\n",
      "               precision    recall  f1-score   support\n",
      "\n",
      "           1       0.58      0.70      0.64        10\n",
      "           2       0.00      0.00      0.00        10\n",
      "           3       0.50      0.50      0.50        10\n",
      "           4       0.50      0.80      0.62        10\n",
      "           5       0.00      0.00      0.00        10\n",
      "           6       0.27      0.40      0.32        10\n",
      "           7       0.50      0.60      0.55        10\n",
      "           8       0.53      0.80      0.64        10\n",
      "           9       0.67      0.40      0.50        10\n",
      "          10       0.90      0.90      0.90        10\n",
      "\n",
      "    accuracy                           0.51       100\n",
      "   macro avg       0.45      0.51      0.47       100\n",
      "weighted avg       0.45      0.51      0.47       100\n",
      "\n"
     ]
    },
    {
     "data": {
      "image/png": "[encoded data removed]",
      "text/plain": [
       "<Figure size 432x288 with 2 Axes>"
      ]
     },
     "metadata": {
      "needs_background": "light"
     },
     "output_type": "display_data"
    }
   ],
   "source": [
    "result(svc,svc_pred)"
   ]
  },
  {
   "cell_type": "markdown",
   "metadata": {},
   "source": [
    "# Using AdaBoost"
   ]
  },
  {
   "cell_type": "code",
   "execution_count": 51,
   "metadata": {},
   "outputs": [],
   "source": [
    "from sklearn.ensemble import AdaBoostClassifier"
   ]
  },
  {
   "cell_type": "code",
   "execution_count": 52,
   "metadata": {},
   "outputs": [],
   "source": [
    "ab=AdaBoostClassifier()\n",
    "ab.fit(X_train,y_train)\n",
    "abpred=ab.predict(X1)"
   ]
  },
  {
   "cell_type": "markdown",
   "metadata": {},
   "source": [
    "# Evaluating Adaboost"
   ]
  },
  {
   "cell_type": "code",
   "execution_count": 53,
   "metadata": {},
   "outputs": [
    {
     "name": "stdout",
     "output_type": "stream",
     "text": [
      "0.27\n"
     ]
    }
   ],
   "source": [
    "a3=accuracy_score(y1,abpred)\n",
    "print(a3)"
   ]
  },
  {
   "cell_type": "code",
   "execution_count": 54,
   "metadata": {},
   "outputs": [
    {
     "name": "stdout",
     "output_type": "stream",
     "text": [
      "Accuracy Score: 0.27\n",
      "\n",
      "\n",
      "Confusion Matrix:\n",
      " [[ 0  0 10  0  0  0  0  0  0  0]\n",
      " [ 0  0  0  0  0  0  0  0  0 10]\n",
      " [ 0  0 10  0  0  0  0  0  0  0]\n",
      " [ 0  0 10  0  0  0  0  0  0  0]\n",
      " [ 0  0  5  0  0  0  5  0  0  0]\n",
      " [ 0  0 10  0  0  0  0  0  0  0]\n",
      " [ 0  0  3  0  0  0  7  0  0  0]\n",
      " [ 0  0 10  0  0  0  0  0  0  0]\n",
      " [ 0  0 10  0  0  0  0  0  0  0]\n",
      " [ 0  0  0  0  0  0  0  0  0 10]]\n",
      "\n",
      "\n",
      "Classification report:\n",
      "               precision    recall  f1-score   support\n",
      "\n",
      "           1       0.00      0.00      0.00        10\n",
      "           2       0.00      0.00      0.00        10\n",
      "           3       0.15      1.00      0.26        10\n",
      "           4       0.00      0.00      0.00        10\n",
      "           5       0.00      0.00      0.00        10\n",
      "           6       0.00      0.00      0.00        10\n",
      "           7       0.58      0.70      0.64        10\n",
      "           8       0.00      0.00      0.00        10\n",
      "           9       0.00      0.00      0.00        10\n",
      "          10       0.50      1.00      0.67        10\n",
      "\n",
      "    accuracy                           0.27       100\n",
      "   macro avg       0.12      0.27      0.16       100\n",
      "weighted avg       0.12      0.27      0.16       100\n",
      "\n"
     ]
    },
    {
     "name": "stderr",
     "output_type": "stream",
     "text": [
      "C:\\Users\\Dell\\anaconda3\\lib\\site-packages\\sklearn\\metrics\\_classification.py:1245: UndefinedMetricWarning: Precision and F-score are ill-defined and being set to 0.0 in labels with no predicted samples. Use `zero_division` parameter to control this behavior.\n",
      "  _warn_prf(average, modifier, msg_start, len(result))\n",
      "C:\\Users\\Dell\\anaconda3\\lib\\site-packages\\sklearn\\metrics\\_classification.py:1245: UndefinedMetricWarning: Precision and F-score are ill-defined and being set to 0.0 in labels with no predicted samples. Use `zero_division` parameter to control this behavior.\n",
      "  _warn_prf(average, modifier, msg_start, len(result))\n",
      "C:\\Users\\Dell\\anaconda3\\lib\\site-packages\\sklearn\\metrics\\_classification.py:1245: UndefinedMetricWarning: Precision and F-score are ill-defined and being set to 0.0 in labels with no predicted samples. Use `zero_division` parameter to control this behavior.\n",
      "  _warn_prf(average, modifier, msg_start, len(result))\n"
     ]
    },
    {
     "data": {
      "image/png": "[encoded data removed]",
      "text/plain": [
       "<Figure size 432x288 with 2 Axes>"
      ]
     },
     "metadata": {
      "needs_background": "light"
     },
     "output_type": "display_data"
    }
   ],
   "source": [
    "result(ab,abpred)"
   ]
  },
  {
   "cell_type": "markdown",
   "metadata": {},
   "source": [
    "# Using GradientDescent Classifier"
   ]
  },
  {
   "cell_type": "code",
   "execution_count": 55,
   "metadata": {},
   "outputs": [],
   "source": [
    "from sklearn.ensemble import GradientBoostingClassifier"
   ]
  },
  {
   "cell_type": "code",
   "execution_count": 56,
   "metadata": {},
   "outputs": [],
   "source": [
    "gd=GradientBoostingClassifier()\n",
    "gd.fit(X_train,y_train)\n",
    "gdpred=gd.predict(X1)"
   ]
  },
  {
   "cell_type": "markdown",
   "metadata": {},
   "source": [
    "# Evaluating GradientBoosting"
   ]
  },
  {
   "cell_type": "code",
   "execution_count": 57,
   "metadata": {},
   "outputs": [
    {
     "name": "stdout",
     "output_type": "stream",
     "text": [
      "0.59\n"
     ]
    }
   ],
   "source": [
    "a4=accuracy_score(y1,gdpred)\n",
    "print(a4)"
   ]
  },
  {
   "cell_type": "code",
   "execution_count": 58,
   "metadata": {},
   "outputs": [
    {
     "name": "stdout",
     "output_type": "stream",
     "text": [
      "Accuracy Score: 0.59\n",
      "\n",
      "\n",
      "Confusion Matrix:\n",
      " [[7 0 3 0 0 0 0 0 0 0]\n",
      " [0 7 1 0 0 0 0 0 0 2]\n",
      " [4 0 6 0 0 0 0 0 0 0]\n",
      " [0 0 0 7 0 3 0 0 0 0]\n",
      " [0 0 0 2 1 0 5 2 0 0]\n",
      " [0 0 0 4 1 4 0 0 1 0]\n",
      " [0 0 0 0 0 0 7 3 0 0]\n",
      " [0 0 0 1 0 1 0 8 0 0]\n",
      " [0 0 0 4 0 2 0 1 3 0]\n",
      " [0 1 0 0 0 0 0 0 0 9]]\n",
      "\n",
      "\n",
      "Classification report:\n",
      "               precision    recall  f1-score   support\n",
      "\n",
      "           1       0.64      0.70      0.67        10\n",
      "           2       0.88      0.70      0.78        10\n",
      "           3       0.60      0.60      0.60        10\n",
      "           4       0.39      0.70      0.50        10\n",
      "           5       0.50      0.10      0.17        10\n",
      "           6       0.40      0.40      0.40        10\n",
      "           7       0.58      0.70      0.64        10\n",
      "           8       0.57      0.80      0.67        10\n",
      "           9       0.75      0.30      0.43        10\n",
      "          10       0.82      0.90      0.86        10\n",
      "\n",
      "    accuracy                           0.59       100\n",
      "   macro avg       0.61      0.59      0.57       100\n",
      "weighted avg       0.61      0.59      0.57       100\n",
      "\n"
     ]
    },
    {
     "data": {
      "image/png": "[encoded data removed]",
      "text/plain": [
       "<Figure size 432x288 with 2 Axes>"
      ]
     },
     "metadata": {
      "needs_background": "light"
     },
     "output_type": "display_data"
    }
   ],
   "source": [
    "result(gd,gdpred)"
   ]
  },
  {
   "cell_type": "markdown",
   "metadata": {},
   "source": [
    "# Using Decision Trees"
   ]
  },
  {
   "cell_type": "code",
   "execution_count": 59,
   "metadata": {},
   "outputs": [],
   "source": [
    "from sklearn.tree import DecisionTreeClassifier"
   ]
  },
  {
   "cell_type": "code",
   "execution_count": 60,
   "metadata": {},
   "outputs": [],
   "source": [
    "dt=DecisionTreeClassifier()\n",
    "dt.fit(X_train,y_train)\n",
    "dtpred=dt.predict(X1)"
   ]
  },
  {
   "cell_type": "markdown",
   "metadata": {},
   "source": [
    "# Evaluating Decision Tree"
   ]
  },
  {
   "cell_type": "code",
   "execution_count": 61,
   "metadata": {},
   "outputs": [
    {
     "name": "stdout",
     "output_type": "stream",
     "text": [
      "0.5\n"
     ]
    }
   ],
   "source": [
    "a5=accuracy_score(y1,dtpred)\n",
    "print(a5)"
   ]
  },
  {
   "cell_type": "code",
   "execution_count": 62,
   "metadata": {},
   "outputs": [
    {
     "name": "stdout",
     "output_type": "stream",
     "text": [
      "Accuracy Score: 0.5\n",
      "\n",
      "\n",
      "Confusion Matrix:\n",
      " [[4 0 5 0 0 0 0 0 1 0]\n",
      " [0 4 0 0 0 0 0 0 0 6]\n",
      " [4 0 5 1 0 0 0 0 0 0]\n",
      " [0 0 1 6 1 0 0 1 1 0]\n",
      " [0 0 0 1 4 1 4 0 0 0]\n",
      " [0 0 0 3 0 2 0 2 3 0]\n",
      " [0 0 1 0 0 0 7 2 0 0]\n",
      " [0 0 0 1 2 0 0 7 0 0]\n",
      " [0 0 1 2 2 0 0 2 3 0]\n",
      " [0 2 0 0 0 0 0 0 0 8]]\n",
      "\n",
      "\n",
      "Classification report:\n",
      "               precision    recall  f1-score   support\n",
      "\n",
      "           1       0.50      0.40      0.44        10\n",
      "           2       0.67      0.40      0.50        10\n",
      "           3       0.38      0.50      0.43        10\n",
      "           4       0.43      0.60      0.50        10\n",
      "           5       0.44      0.40      0.42        10\n",
      "           6       0.67      0.20      0.31        10\n",
      "           7       0.64      0.70      0.67        10\n",
      "           8       0.50      0.70      0.58        10\n",
      "           9       0.38      0.30      0.33        10\n",
      "          10       0.57      0.80      0.67        10\n",
      "\n",
      "    accuracy                           0.50       100\n",
      "   macro avg       0.52      0.50      0.49       100\n",
      "weighted avg       0.52      0.50      0.49       100\n",
      "\n"
     ]
    },
    {
     "data": {
      "image/png": "[encoded data removed]",
      "text/plain": [
       "<Figure size 432x288 with 2 Axes>"
      ]
     },
     "metadata": {
      "needs_background": "light"
     },
     "output_type": "display_data"
    }
   ],
   "source": [
    "result(dt,dtpred)"
   ]
  },
  {
   "cell_type": "markdown",
   "metadata": {},
   "source": [
    "# KNN"
   ]
  },
  {
   "cell_type": "code",
   "execution_count": 63,
   "metadata": {},
   "outputs": [],
   "source": [
    "from sklearn.neighbors import KNeighborsClassifier"
   ]
  },
  {
   "cell_type": "code",
   "execution_count": 64,
   "metadata": {},
   "outputs": [],
   "source": [
    "knn=KNeighborsClassifier()\n",
    "knn.fit(X_train,y_train)\n",
    "knnpred=knn.predict(X1)"
   ]
  },
  {
   "cell_type": "markdown",
   "metadata": {},
   "source": [
    "# Evaluating KNN"
   ]
  },
  {
   "cell_type": "code",
   "execution_count": 65,
   "metadata": {},
   "outputs": [
    {
     "name": "stdout",
     "output_type": "stream",
     "text": [
      "0.44\n"
     ]
    }
   ],
   "source": [
    "a6=accuracy_score(y1,knnpred)\n",
    "print(a6)"
   ]
  },
  {
   "cell_type": "code",
   "execution_count": 66,
   "metadata": {},
   "outputs": [
    {
     "name": "stdout",
     "output_type": "stream",
     "text": [
      "Accuracy Score: 0.44\n",
      "\n",
      "\n",
      "Confusion Matrix:\n",
      " [[7 0 3 0 0 0 0 0 0 0]\n",
      " [0 1 8 0 1 0 0 0 0 0]\n",
      " [3 0 7 0 0 0 0 0 0 0]\n",
      " [0 0 1 6 1 1 0 0 1 0]\n",
      " [0 0 0 2 1 0 5 2 0 0]\n",
      " [0 0 1 3 5 0 0 0 1 0]\n",
      " [0 0 0 0 0 0 5 5 0 0]\n",
      " [0 0 0 1 0 0 2 7 0 0]\n",
      " [0 0 0 4 3 1 0 0 2 0]\n",
      " [0 2 0 0 0 0 0 0 0 8]]\n",
      "\n",
      "\n",
      "Classification report:\n",
      "               precision    recall  f1-score   support\n",
      "\n",
      "           1       0.70      0.70      0.70        10\n",
      "           2       0.33      0.10      0.15        10\n",
      "           3       0.35      0.70      0.47        10\n",
      "           4       0.38      0.60      0.46        10\n",
      "           5       0.09      0.10      0.10        10\n",
      "           6       0.00      0.00      0.00        10\n",
      "           7       0.42      0.50      0.45        10\n",
      "           8       0.50      0.70      0.58        10\n",
      "           9       0.50      0.20      0.29        10\n",
      "          10       1.00      0.80      0.89        10\n",
      "\n",
      "    accuracy                           0.44       100\n",
      "   macro avg       0.43      0.44      0.41       100\n",
      "weighted avg       0.43      0.44      0.41       100\n",
      "\n"
     ]
    },
    {
     "data": {
      "image/png": "[encoded data removed]",
      "text/plain": [
       "<Figure size 432x288 with 2 Axes>"
      ]
     },
     "metadata": {
      "needs_background": "light"
     },
     "output_type": "display_data"
    }
   ],
   "source": [
    "result(knn,knnpred)"
   ]
  },
  {
   "cell_type": "markdown",
   "metadata": {},
   "source": [
    "# Using Logistics Regression"
   ]
  },
  {
   "cell_type": "code",
   "execution_count": 67,
   "metadata": {},
   "outputs": [],
   "source": [
    "from sklearn.linear_model import LogisticRegression"
   ]
  },
  {
   "cell_type": "code",
   "execution_count": 68,
   "metadata": {},
   "outputs": [],
   "source": [
    "lor=LogisticRegression(max_iter=1000)\n",
    "lor.fit(X_train,y_train)\n",
    "lrpred=lor.predict(X1)"
   ]
  },
  {
   "cell_type": "markdown",
   "metadata": {},
   "source": [
    "# Evaluation Logistic Regression"
   ]
  },
  {
   "cell_type": "code",
   "execution_count": 69,
   "metadata": {},
   "outputs": [
    {
     "name": "stdout",
     "output_type": "stream",
     "text": [
      "0.69\n"
     ]
    }
   ],
   "source": [
    "a7=accuracy_score(y1,lrpred)\n",
    "print(a7)"
   ]
  },
  {
   "cell_type": "code",
   "execution_count": 70,
   "metadata": {},
   "outputs": [
    {
     "name": "stdout",
     "output_type": "stream",
     "text": [
      "Accuracy Score: 0.69\n",
      "\n",
      "\n",
      "Confusion Matrix:\n",
      " [[10  0  0  0  0  0  0  0  0  0]\n",
      " [ 0 10  0  0  0  0  0  0  0  0]\n",
      " [ 1  0  9  0  0  0  0  0  0  0]\n",
      " [ 0  0  0  6  3  1  0  0  0  0]\n",
      " [ 0  0  0  1  2  0  5  2  0  0]\n",
      " [ 0  0  0  4  1  4  0  0  1  0]\n",
      " [ 0  0  0  0  0  0  6  4  0  0]\n",
      " [ 1  0  0  0  0  0  0  9  0  0]\n",
      " [ 0  0  0  3  0  2  0  0  5  0]\n",
      " [ 0  2  0  0  0  0  0  0  0  8]]\n",
      "\n",
      "\n",
      "Classification report:\n",
      "               precision    recall  f1-score   support\n",
      "\n",
      "           1       0.83      1.00      0.91        10\n",
      "           2       0.83      1.00      0.91        10\n",
      "           3       1.00      0.90      0.95        10\n",
      "           4       0.43      0.60      0.50        10\n",
      "           5       0.33      0.20      0.25        10\n",
      "           6       0.57      0.40      0.47        10\n",
      "           7       0.55      0.60      0.57        10\n",
      "           8       0.60      0.90      0.72        10\n",
      "           9       0.83      0.50      0.62        10\n",
      "          10       1.00      0.80      0.89        10\n",
      "\n",
      "    accuracy                           0.69       100\n",
      "   macro avg       0.70      0.69      0.68       100\n",
      "weighted avg       0.70      0.69      0.68       100\n",
      "\n"
     ]
    },
    {
     "data": {
      "image/png": "[encoded data removed]",
      "text/plain": [
       "<Figure size 432x288 with 2 Axes>"
      ]
     },
     "metadata": {
      "needs_background": "light"
     },
     "output_type": "display_data"
    }
   ],
   "source": [
    "result(lor,lrpred)"
   ]
  },
  {
   "cell_type": "markdown",
   "metadata": {},
   "source": [
    "# Plotting a receiver operating characteristic"
   ]
  },
  {
   "cell_type": "code",
   "execution_count": 71,
   "metadata": {},
   "outputs": [
    {
     "name": "stderr",
     "output_type": "stream",
     "text": [
      "C:\\Users\\Dell\\anaconda3\\lib\\site-packages\\ipykernel_launcher.py:33: DeprecationWarning: scipy.interp is deprecated and will be removed in SciPy 2.0.0, use numpy.interp instead\n",
      "C:\\Users\\Dell\\anaconda3\\lib\\site-packages\\ipykernel_launcher.py:33: DeprecationWarning: scipy.interp is deprecated and will be removed in SciPy 2.0.0, use numpy.interp instead\n",
      "C:\\Users\\Dell\\anaconda3\\lib\\site-packages\\ipykernel_launcher.py:33: DeprecationWarning: scipy.interp is deprecated and will be removed in SciPy 2.0.0, use numpy.interp instead\n"
     ]
    },
    {
     "data": {
      "image/png": "[encoded data removed]",
      "text/plain": [
       "<Figure size 504x360 with 1 Axes>"
      ]
     },
     "metadata": {
      "needs_background": "light"
     },
     "output_type": "display_data"
    }
   ],
   "source": [
    "from sklearn.metrics import roc_curve, auc\n",
    "from scipy import interp\n",
    "from sklearn.pipeline import Pipeline\n",
    "from sklearn.model_selection import StratifiedKFold\n",
    "\n",
    "pipe_lr = Pipeline([('scl', StandardScaler()),\n",
    "                    ('pca', PCA(n_components=2)),\n",
    "                    ('clf', LogisticRegression(penalty='l2', \n",
    "                                               random_state=0, \n",
    "                                               C=100.0))])\n",
    "\n",
    "\n",
    "\n",
    "\n",
    "#cv = StratifiedKFold(y_train,n_folds=3,random_state=1)\n",
    "    \n",
    "#else:\n",
    "cv = list(StratifiedKFold(n_splits=3).split(X_train, y_train))\n",
    "\n",
    "fig = plt.figure(figsize=(7, 5))\n",
    "\n",
    "mean_tpr = 0.0\n",
    "mean_fpr = np.linspace(0, 1, 100)\n",
    "all_tpr = []\n",
    "\n",
    "for i, (train, test) in enumerate(cv):\n",
    "    probas = pipe_lr.fit(X_test,\n",
    "                         y_test).predict_proba(X_test)\n",
    "\n",
    "    fpr, tpr, thresholds = roc_curve(y_test,\n",
    "                                     probas[:, 1],\n",
    "                                     pos_label=1)\n",
    "    mean_tpr += interp(mean_fpr, fpr, tpr)\n",
    "    mean_tpr[0] = 0.0\n",
    "    roc_auc = auc(fpr, tpr)\n",
    "    plt.plot(fpr,\n",
    "             tpr,\n",
    "             lw=1,\n",
    "             label='ROC fold %d (area = %0.2f)'\n",
    "                   % (i+1, roc_auc))\n",
    "\n",
    "plt.plot([0, 1],\n",
    "         [0, 1],\n",
    "         linestyle='--',\n",
    "         color=(0.6, 0.6, 0.6),\n",
    "         label='random guessing')\n",
    "\n",
    "mean_tpr /= len(cv)\n",
    "mean_tpr[-1] = 1.0\n",
    "mean_auc = auc(mean_fpr, mean_tpr)\n",
    "plt.plot(mean_fpr, mean_tpr, 'k--',\n",
    "         label='mean ROC (area = %0.2f)' % mean_auc, lw=2)\n",
    "plt.plot([0, 0, 1],\n",
    "         [0, 1, 1],\n",
    "         lw=2,\n",
    "         linestyle=':',\n",
    "         color='black',\n",
    "         label='perfect performance')\n",
    "\n",
    "plt.xlim([-0.05, 1.05])\n",
    "plt.ylim([-0.05, 1.05])\n",
    "plt.xlabel('false positive rate')\n",
    "plt.ylabel('true positive rate')\n",
    "plt.title('Receiver Operator Characteristic')\n",
    "plt.legend(loc=\"lower right\")\n",
    "\n",
    "plt.tight_layout()\n",
    "# plt.savefig('./figures/roc.png', dpi=300)\n",
    "plt.show()"
   ]
  },
  {
   "cell_type": "code",
   "execution_count": 72,
   "metadata": {},
   "outputs": [],
   "source": [
    "pipe_lr = pipe_lr.fit(X_train, y_train)\n",
    "y_labels = pipe_lr.predict(X_test)\n",
    "y_probas = pipe_lr.predict_proba(X_test)\n",
    "# note that we use probabilities for roc_auc\n",
    "# the `[:, 1]` selects the positive class label only"
   ]
  },
  {
   "cell_type": "code",
   "execution_count": 73,
   "metadata": {},
   "outputs": [
    {
     "name": "stdout",
     "output_type": "stream",
     "text": [
      "ROC AUC: 0.682\n",
      "Accuracy: 0.242\n"
     ]
    }
   ],
   "source": [
    "from sklearn.metrics import roc_auc_score, accuracy_score\n",
    "print('ROC AUC: %.3f' % roc_auc_score(y_true=y_test, y_score=y_probas,multi_class=\"ovr\"))\n",
    "print('Accuracy: %.3f' % accuracy_score(y_true=y_test, y_pred=y_labels))"
   ]
  },
  {
   "cell_type": "markdown",
   "metadata": {},
   "source": [
    "# OBSERVATION"
   ]
  },
  {
   "cell_type": "code",
   "execution_count": 74,
   "metadata": {},
   "outputs": [],
   "source": [
    "x=[]\n",
    "x.append(a1*100)\n",
    "x.append(a2*100)\n",
    "x.append(a3*100)\n",
    "x.append(a4*100)\n",
    "x.append(a5*100)\n",
    "x.append(a6*100)\n",
    "x.append(a7*100)"
   ]
  },
  {
   "cell_type": "code",
   "execution_count": 75,
   "metadata": {},
   "outputs": [],
   "source": [
    "inference={'Model Used':['RandomForests','SVM','AdaBoost','GradientBoost','DecisionTree','KNN','LogisticRegression'],\n",
    "            'Accuracy Scores(%)':x}"
   ]
  },
  {
   "cell_type": "code",
   "execution_count": 76,
   "metadata": {},
   "outputs": [],
   "source": [
    "df2=pd.DataFrame(inference)"
   ]
  },
  {
   "cell_type": "code",
   "execution_count": 77,
   "metadata": {},
   "outputs": [
    {
     "data": {
      "text/html": [
       "<div>\n",
       "<style scoped>\n",
       "    .dataframe tbody tr th:only-of-type {\n",
       "        vertical-align: middle;\n",
       "    }\n",
       "\n",
       "    .dataframe tbody tr th {\n",
       "        vertical-align: top;\n",
       "    }\n",
       "\n",
       "    .dataframe thead th {\n",
       "        text-align: right;\n",
       "    }\n",
       "</style>\n",
       "<table border=\"1\" class=\"dataframe\">\n",
       "  <thead>\n",
       "    <tr style=\"text-align: right;\">\n",
       "      <th></th>\n",
       "      <th>Model Used</th>\n",
       "      <th>Accuracy Scores(%)</th>\n",
       "    </tr>\n",
       "  </thead>\n",
       "  <tbody>\n",
       "    <tr>\n",
       "      <th>0</th>\n",
       "      <td>RandomForests</td>\n",
       "      <td>58.0</td>\n",
       "    </tr>\n",
       "    <tr>\n",
       "      <th>1</th>\n",
       "      <td>SVM</td>\n",
       "      <td>51.0</td>\n",
       "    </tr>\n",
       "    <tr>\n",
       "      <th>2</th>\n",
       "      <td>AdaBoost</td>\n",
       "      <td>27.0</td>\n",
       "    </tr>\n",
       "    <tr>\n",
       "      <th>3</th>\n",
       "      <td>GradientBoost</td>\n",
       "      <td>59.0</td>\n",
       "    </tr>\n",
       "    <tr>\n",
       "      <th>4</th>\n",
       "      <td>DecisionTree</td>\n",
       "      <td>50.0</td>\n",
       "    </tr>\n",
       "    <tr>\n",
       "      <th>5</th>\n",
       "      <td>KNN</td>\n",
       "      <td>44.0</td>\n",
       "    </tr>\n",
       "    <tr>\n",
       "      <th>6</th>\n",
       "      <td>LogisticRegression</td>\n",
       "      <td>69.0</td>\n",
       "    </tr>\n",
       "  </tbody>\n",
       "</table>\n",
       "</div>"
      ],
      "text/plain": [
       "           Model Used  Accuracy Scores(%)\n",
       "0       RandomForests                58.0\n",
       "1                 SVM                51.0\n",
       "2            AdaBoost                27.0\n",
       "3       GradientBoost                59.0\n",
       "4        DecisionTree                50.0\n",
       "5                 KNN                44.0\n",
       "6  LogisticRegression                69.0"
      ]
     },
     "execution_count": 77,
     "metadata": {},
     "output_type": "execute_result"
    }
   ],
   "source": [
    "df2"
   ]
  },
  {
   "cell_type": "markdown",
   "metadata": {},
   "source": [
    "# INFERENCE\n",
    "### Thus accuracy is highest for Logistic regression with 69% and it is the best suited model for the given dataset"
   ]
  },
  {
   "cell_type": "code",
   "execution_count": null,
   "metadata": {},
   "outputs": [],
   "source": []
  }
 ],
 "metadata": {
  "kernelspec": {
   "display_name": "Python 3",
   "language": "python",
   "name": "python3"
  },
  "language_info": {
   "codemirror_mode": {
    "name": "ipython",
    "version": 3
   },
   "file_extension": ".py",
   "mimetype": "text/x-python",
   "name": "python",
   "nbconvert_exporter": "python",
   "pygments_lexer": "ipython3",
   "version": "3.6.10"
  }
 },
 "nbformat": 4,
 "nbformat_minor": 4
}
