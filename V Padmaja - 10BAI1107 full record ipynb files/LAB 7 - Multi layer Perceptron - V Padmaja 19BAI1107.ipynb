{
 "cells": [
  {
   "cell_type": "markdown",
   "metadata": {
    "id": "SCNCVI84-Zjj"
   },
   "source": [
    "# V Padmaja - 19BAI1107\n",
    "## b) Lab 7 - MULTILAYER PERCEPTRON"
   ]
  },
  {
   "cell_type": "code",
   "execution_count": 18,
   "metadata": {
    "id": "bPipsGzq-sge"
   },
   "outputs": [],
   "source": [
    "import numpy as np\n",
    "import pandas as pd\n",
    "from pandas import DataFrame\n",
    "from sklearn.preprocessing import MinMaxScaler,MaxAbsScaler\n",
    "from sklearn.model_selection import train_test_split\n",
    "from sklearn.metrics import accuracy_score\n",
    "import tensorflow\n",
    "from tensorflow.keras.datasets import mnist\n",
    "from tensorflow.keras.models import Sequential\n",
    "from tensorflow.keras.layers import Dense\n",
    "from tensorflow.keras.optimizers import RMSprop\n",
    "import matplotlib.pyplot as plt\n",
    "from sklearn import metrics\n",
    "from sklearn.metrics import accuracy_score, confusion_matrix, classification_report\n",
    "%matplotlib inline"
   ]
  },
  {
   "cell_type": "markdown",
   "metadata": {
    "id": "_EQcpXQS-iQ3"
   },
   "source": [
    "**IMPORTING DATA**"
   ]
  },
  {
   "cell_type": "code",
   "execution_count": 35,
   "metadata": {
    "colab": {
     "base_uri": "https://localhost:8080/",
     "height": 195
    },
    "id": "jnahSPnV-k-F",
    "outputId": "b6e66c80-6db4-4dbc-928f-1f21953f465d"
   },
   "outputs": [
    {
     "data": {
      "text/html": [
       "<div>\n",
       "<style scoped>\n",
       "    .dataframe tbody tr th:only-of-type {\n",
       "        vertical-align: middle;\n",
       "    }\n",
       "\n",
       "    .dataframe tbody tr th {\n",
       "        vertical-align: top;\n",
       "    }\n",
       "\n",
       "    .dataframe thead th {\n",
       "        text-align: right;\n",
       "    }\n",
       "</style>\n",
       "<table border=\"1\" class=\"dataframe\">\n",
       "  <thead>\n",
       "    <tr style=\"text-align: right;\">\n",
       "      <th></th>\n",
       "      <th>P1</th>\n",
       "      <th>P2</th>\n",
       "      <th>P3</th>\n",
       "      <th>P4</th>\n",
       "      <th>P5</th>\n",
       "      <th>P6</th>\n",
       "      <th>P7</th>\n",
       "      <th>P8</th>\n",
       "      <th>P9</th>\n",
       "      <th>P10</th>\n",
       "      <th>...</th>\n",
       "      <th>P12</th>\n",
       "      <th>P13</th>\n",
       "      <th>P14</th>\n",
       "      <th>P15</th>\n",
       "      <th>P16</th>\n",
       "      <th>P17</th>\n",
       "      <th>P18</th>\n",
       "      <th>P19</th>\n",
       "      <th>P20</th>\n",
       "      <th>Target Label</th>\n",
       "    </tr>\n",
       "  </thead>\n",
       "  <tbody>\n",
       "    <tr>\n",
       "      <th>0</th>\n",
       "      <td>3.30</td>\n",
       "      <td>7.44</td>\n",
       "      <td>1.52</td>\n",
       "      <td>3.27</td>\n",
       "      <td>0.07</td>\n",
       "      <td>2.14</td>\n",
       "      <td>0.75</td>\n",
       "      <td>0.66</td>\n",
       "      <td>0.0</td>\n",
       "      <td>54.8</td>\n",
       "      <td>...</td>\n",
       "      <td>50.7</td>\n",
       "      <td>6.55</td>\n",
       "      <td>4.09</td>\n",
       "      <td>4.26</td>\n",
       "      <td>0.01</td>\n",
       "      <td>0.00</td>\n",
       "      <td>24.7</td>\n",
       "      <td>2.7</td>\n",
       "      <td>1.6</td>\n",
       "      <td>V1</td>\n",
       "    </tr>\n",
       "    <tr>\n",
       "      <th>1</th>\n",
       "      <td>3.43</td>\n",
       "      <td>7.63</td>\n",
       "      <td>1.63</td>\n",
       "      <td>3.27</td>\n",
       "      <td>0.05</td>\n",
       "      <td>2.01</td>\n",
       "      <td>0.74</td>\n",
       "      <td>0.65</td>\n",
       "      <td>0.0</td>\n",
       "      <td>51.8</td>\n",
       "      <td>...</td>\n",
       "      <td>47.9</td>\n",
       "      <td>8.35</td>\n",
       "      <td>5.08</td>\n",
       "      <td>5.01</td>\n",
       "      <td>0.01</td>\n",
       "      <td>0.00</td>\n",
       "      <td>23.3</td>\n",
       "      <td>2.3</td>\n",
       "      <td>1.8</td>\n",
       "      <td>V1</td>\n",
       "    </tr>\n",
       "    <tr>\n",
       "      <th>2</th>\n",
       "      <td>3.41</td>\n",
       "      <td>7.32</td>\n",
       "      <td>1.52</td>\n",
       "      <td>3.18</td>\n",
       "      <td>0.07</td>\n",
       "      <td>2.09</td>\n",
       "      <td>0.80</td>\n",
       "      <td>0.70</td>\n",
       "      <td>0.0</td>\n",
       "      <td>54.0</td>\n",
       "      <td>...</td>\n",
       "      <td>54.4</td>\n",
       "      <td>9.27</td>\n",
       "      <td>6.85</td>\n",
       "      <td>7.14</td>\n",
       "      <td>0.19</td>\n",
       "      <td>0.06</td>\n",
       "      <td>25.0</td>\n",
       "      <td>2.5</td>\n",
       "      <td>-0.9</td>\n",
       "      <td>V1</td>\n",
       "    </tr>\n",
       "    <tr>\n",
       "      <th>3</th>\n",
       "      <td>3.78</td>\n",
       "      <td>7.85</td>\n",
       "      <td>1.69</td>\n",
       "      <td>3.35</td>\n",
       "      <td>0.03</td>\n",
       "      <td>1.98</td>\n",
       "      <td>0.77</td>\n",
       "      <td>0.67</td>\n",
       "      <td>0.0</td>\n",
       "      <td>57.7</td>\n",
       "      <td>...</td>\n",
       "      <td>48.9</td>\n",
       "      <td>10.26</td>\n",
       "      <td>5.96</td>\n",
       "      <td>5.47</td>\n",
       "      <td>0.05</td>\n",
       "      <td>0.01</td>\n",
       "      <td>24.1</td>\n",
       "      <td>5.6</td>\n",
       "      <td>2.1</td>\n",
       "      <td>V1</td>\n",
       "    </tr>\n",
       "    <tr>\n",
       "      <th>4</th>\n",
       "      <td>3.90</td>\n",
       "      <td>7.99</td>\n",
       "      <td>1.61</td>\n",
       "      <td>3.43</td>\n",
       "      <td>0.02</td>\n",
       "      <td>2.14</td>\n",
       "      <td>0.77</td>\n",
       "      <td>0.71</td>\n",
       "      <td>0.0</td>\n",
       "      <td>59.1</td>\n",
       "      <td>...</td>\n",
       "      <td>54.1</td>\n",
       "      <td>8.19</td>\n",
       "      <td>5.81</td>\n",
       "      <td>4.72</td>\n",
       "      <td>0.64</td>\n",
       "      <td>0.16</td>\n",
       "      <td>26.8</td>\n",
       "      <td>2.5</td>\n",
       "      <td>2.1</td>\n",
       "      <td>V1</td>\n",
       "    </tr>\n",
       "  </tbody>\n",
       "</table>\n",
       "<p>5 rows × 21 columns</p>\n",
       "</div>"
      ],
      "text/plain": [
       "     P1    P2    P3    P4    P5    P6    P7    P8   P9   P10  ...   P12  \\\n",
       "0  3.30  7.44  1.52  3.27  0.07  2.14  0.75  0.66  0.0  54.8  ...  50.7   \n",
       "1  3.43  7.63  1.63  3.27  0.05  2.01  0.74  0.65  0.0  51.8  ...  47.9   \n",
       "2  3.41  7.32  1.52  3.18  0.07  2.09  0.80  0.70  0.0  54.0  ...  54.4   \n",
       "3  3.78  7.85  1.69  3.35  0.03  1.98  0.77  0.67  0.0  57.7  ...  48.9   \n",
       "4  3.90  7.99  1.61  3.43  0.02  2.14  0.77  0.71  0.0  59.1  ...  54.1   \n",
       "\n",
       "     P13   P14   P15   P16   P17   P18  P19  P20  Target Label  \n",
       "0   6.55  4.09  4.26  0.01  0.00  24.7  2.7  1.6            V1  \n",
       "1   8.35  5.08  5.01  0.01  0.00  23.3  2.3  1.8            V1  \n",
       "2   9.27  6.85  7.14  0.19  0.06  25.0  2.5 -0.9            V1  \n",
       "3  10.26  5.96  5.47  0.05  0.01  24.1  5.6  2.1            V1  \n",
       "4   8.19  5.81  4.72  0.64  0.16  26.8  2.5  2.1            V1  \n",
       "\n",
       "[5 rows x 21 columns]"
      ]
     },
     "execution_count": 35,
     "metadata": {},
     "output_type": "execute_result"
    }
   ],
   "source": [
    "df=pd.read_excel('Multiclass-dataset.xlsx')\n",
    "df.head()"
   ]
  },
  {
   "cell_type": "code",
   "execution_count": 36,
   "metadata": {
    "id": "TjX_bwbI_FkB"
   },
   "outputs": [],
   "source": [
    "dict_diff={\n",
    "    'V1':1,\n",
    "    'V2':2,\n",
    "    'V3':3,\n",
    "    'V4':4,\n",
    "    'V5':5,\n",
    "    'V6':6,\n",
    "    'V7':7,\n",
    "    'V8':8,\n",
    "    'V9':9,\n",
    "    'V10':10\n",
    "    }"
   ]
  },
  {
   "cell_type": "code",
   "execution_count": 37,
   "metadata": {
    "id": "mxxJJ4Gg_Gdk"
   },
   "outputs": [],
   "source": [
    "df['re']=df['Target Label'].apply(lambda x:dict_diff[x])"
   ]
  },
  {
   "cell_type": "code",
   "execution_count": 38,
   "metadata": {
    "colab": {
     "base_uri": "https://localhost:8080/"
    },
    "id": "Phfmz9HC_Pgo",
    "outputId": "87bbf905-6784-40b7-b6fd-17ca89e304e8"
   },
   "outputs": [
    {
     "data": {
      "text/plain": [
       "array([ 1,  2,  3,  4,  5,  6,  7,  8,  9, 10], dtype=int64)"
      ]
     },
     "execution_count": 38,
     "metadata": {},
     "output_type": "execute_result"
    }
   ],
   "source": [
    "df['re'].unique()"
   ]
  },
  {
   "cell_type": "code",
   "execution_count": 39,
   "metadata": {
    "colab": {
     "base_uri": "https://localhost:8080/"
    },
    "id": "A_ThJydq_sJw",
    "outputId": "7739679f-2285-4630-ab64-0892c584776e"
   },
   "outputs": [
    {
     "data": {
      "text/plain": [
       "(400, 22)"
      ]
     },
     "execution_count": 39,
     "metadata": {},
     "output_type": "execute_result"
    }
   ],
   "source": [
    "df.shape"
   ]
  },
  {
   "cell_type": "code",
   "execution_count": 40,
   "metadata": {
    "colab": {
     "base_uri": "https://localhost:8080/",
     "height": 410
    },
    "id": "Th2L-dMp_wxQ",
    "outputId": "58a35c3c-9b6f-47cf-c56b-ef84f925077d"
   },
   "outputs": [
    {
     "data": {
      "text/html": [
       "<div>\n",
       "<style scoped>\n",
       "    .dataframe tbody tr th:only-of-type {\n",
       "        vertical-align: middle;\n",
       "    }\n",
       "\n",
       "    .dataframe tbody tr th {\n",
       "        vertical-align: top;\n",
       "    }\n",
       "\n",
       "    .dataframe thead th {\n",
       "        text-align: right;\n",
       "    }\n",
       "</style>\n",
       "<table border=\"1\" class=\"dataframe\">\n",
       "  <thead>\n",
       "    <tr style=\"text-align: right;\">\n",
       "      <th></th>\n",
       "      <th>P1</th>\n",
       "      <th>P2</th>\n",
       "      <th>P3</th>\n",
       "      <th>P4</th>\n",
       "      <th>P5</th>\n",
       "      <th>P6</th>\n",
       "      <th>P7</th>\n",
       "      <th>P8</th>\n",
       "      <th>P9</th>\n",
       "      <th>P10</th>\n",
       "      <th>...</th>\n",
       "      <th>P13</th>\n",
       "      <th>P14</th>\n",
       "      <th>P15</th>\n",
       "      <th>P16</th>\n",
       "      <th>P17</th>\n",
       "      <th>P18</th>\n",
       "      <th>P19</th>\n",
       "      <th>P20</th>\n",
       "      <th>Target Label</th>\n",
       "      <th>re</th>\n",
       "    </tr>\n",
       "  </thead>\n",
       "  <tbody>\n",
       "    <tr>\n",
       "      <th>count</th>\n",
       "      <td>400.000000</td>\n",
       "      <td>400.000000</td>\n",
       "      <td>400.000000</td>\n",
       "      <td>400.00000</td>\n",
       "      <td>400.000000</td>\n",
       "      <td>400.000000</td>\n",
       "      <td>400.000000</td>\n",
       "      <td>400.000000</td>\n",
       "      <td>400.000000</td>\n",
       "      <td>400.00000</td>\n",
       "      <td>...</td>\n",
       "      <td>400.000000</td>\n",
       "      <td>400.000000</td>\n",
       "      <td>400.00000</td>\n",
       "      <td>400.000000</td>\n",
       "      <td>400.000000</td>\n",
       "      <td>400.000000</td>\n",
       "      <td>400.000000</td>\n",
       "      <td>400.000000</td>\n",
       "      <td>400</td>\n",
       "      <td>400.000000</td>\n",
       "    </tr>\n",
       "    <tr>\n",
       "      <th>unique</th>\n",
       "      <td>NaN</td>\n",
       "      <td>NaN</td>\n",
       "      <td>NaN</td>\n",
       "      <td>NaN</td>\n",
       "      <td>NaN</td>\n",
       "      <td>NaN</td>\n",
       "      <td>NaN</td>\n",
       "      <td>NaN</td>\n",
       "      <td>NaN</td>\n",
       "      <td>NaN</td>\n",
       "      <td>...</td>\n",
       "      <td>NaN</td>\n",
       "      <td>NaN</td>\n",
       "      <td>NaN</td>\n",
       "      <td>NaN</td>\n",
       "      <td>NaN</td>\n",
       "      <td>NaN</td>\n",
       "      <td>NaN</td>\n",
       "      <td>NaN</td>\n",
       "      <td>10</td>\n",
       "      <td>NaN</td>\n",
       "    </tr>\n",
       "    <tr>\n",
       "      <th>top</th>\n",
       "      <td>NaN</td>\n",
       "      <td>NaN</td>\n",
       "      <td>NaN</td>\n",
       "      <td>NaN</td>\n",
       "      <td>NaN</td>\n",
       "      <td>NaN</td>\n",
       "      <td>NaN</td>\n",
       "      <td>NaN</td>\n",
       "      <td>NaN</td>\n",
       "      <td>NaN</td>\n",
       "      <td>...</td>\n",
       "      <td>NaN</td>\n",
       "      <td>NaN</td>\n",
       "      <td>NaN</td>\n",
       "      <td>NaN</td>\n",
       "      <td>NaN</td>\n",
       "      <td>NaN</td>\n",
       "      <td>NaN</td>\n",
       "      <td>NaN</td>\n",
       "      <td>V3</td>\n",
       "      <td>NaN</td>\n",
       "    </tr>\n",
       "    <tr>\n",
       "      <th>freq</th>\n",
       "      <td>NaN</td>\n",
       "      <td>NaN</td>\n",
       "      <td>NaN</td>\n",
       "      <td>NaN</td>\n",
       "      <td>NaN</td>\n",
       "      <td>NaN</td>\n",
       "      <td>NaN</td>\n",
       "      <td>NaN</td>\n",
       "      <td>NaN</td>\n",
       "      <td>NaN</td>\n",
       "      <td>...</td>\n",
       "      <td>NaN</td>\n",
       "      <td>NaN</td>\n",
       "      <td>NaN</td>\n",
       "      <td>NaN</td>\n",
       "      <td>NaN</td>\n",
       "      <td>NaN</td>\n",
       "      <td>NaN</td>\n",
       "      <td>NaN</td>\n",
       "      <td>40</td>\n",
       "      <td>NaN</td>\n",
       "    </tr>\n",
       "    <tr>\n",
       "      <th>mean</th>\n",
       "      <td>3.441575</td>\n",
       "      <td>7.403225</td>\n",
       "      <td>1.595625</td>\n",
       "      <td>3.12340</td>\n",
       "      <td>0.056550</td>\n",
       "      <td>1.970525</td>\n",
       "      <td>0.787700</td>\n",
       "      <td>0.690450</td>\n",
       "      <td>0.020500</td>\n",
       "      <td>103.88375</td>\n",
       "      <td>...</td>\n",
       "      <td>13.666600</td>\n",
       "      <td>10.190050</td>\n",
       "      <td>8.39965</td>\n",
       "      <td>0.528475</td>\n",
       "      <td>0.155375</td>\n",
       "      <td>39.988250</td>\n",
       "      <td>10.069250</td>\n",
       "      <td>10.600000</td>\n",
       "      <td>NaN</td>\n",
       "      <td>5.500000</td>\n",
       "    </tr>\n",
       "    <tr>\n",
       "      <th>std</th>\n",
       "      <td>0.395690</td>\n",
       "      <td>0.421662</td>\n",
       "      <td>0.140773</td>\n",
       "      <td>0.19666</td>\n",
       "      <td>0.015188</td>\n",
       "      <td>0.196999</td>\n",
       "      <td>0.027931</td>\n",
       "      <td>0.017652</td>\n",
       "      <td>0.092878</td>\n",
       "      <td>40.77963</td>\n",
       "      <td>...</td>\n",
       "      <td>3.934187</td>\n",
       "      <td>3.384236</td>\n",
       "      <td>3.35507</td>\n",
       "      <td>1.017907</td>\n",
       "      <td>0.301290</td>\n",
       "      <td>16.699209</td>\n",
       "      <td>5.942395</td>\n",
       "      <td>6.213398</td>\n",
       "      <td>NaN</td>\n",
       "      <td>2.875878</td>\n",
       "    </tr>\n",
       "    <tr>\n",
       "      <th>min</th>\n",
       "      <td>2.410000</td>\n",
       "      <td>6.280000</td>\n",
       "      <td>1.180000</td>\n",
       "      <td>2.60000</td>\n",
       "      <td>0.020000</td>\n",
       "      <td>1.220000</td>\n",
       "      <td>0.670000</td>\n",
       "      <td>0.640000</td>\n",
       "      <td>0.000000</td>\n",
       "      <td>43.30000</td>\n",
       "      <td>...</td>\n",
       "      <td>5.700000</td>\n",
       "      <td>4.070000</td>\n",
       "      <td>3.49000</td>\n",
       "      <td>0.000000</td>\n",
       "      <td>0.000000</td>\n",
       "      <td>20.200000</td>\n",
       "      <td>0.100000</td>\n",
       "      <td>-0.900000</td>\n",
       "      <td>NaN</td>\n",
       "      <td>1.000000</td>\n",
       "    </tr>\n",
       "    <tr>\n",
       "      <th>25%</th>\n",
       "      <td>3.167500</td>\n",
       "      <td>7.100000</td>\n",
       "      <td>1.520000</td>\n",
       "      <td>3.00000</td>\n",
       "      <td>0.040000</td>\n",
       "      <td>1.870000</td>\n",
       "      <td>0.770000</td>\n",
       "      <td>0.680000</td>\n",
       "      <td>0.000000</td>\n",
       "      <td>75.35000</td>\n",
       "      <td>...</td>\n",
       "      <td>10.930000</td>\n",
       "      <td>7.607500</td>\n",
       "      <td>6.01750</td>\n",
       "      <td>0.000000</td>\n",
       "      <td>0.000000</td>\n",
       "      <td>28.875000</td>\n",
       "      <td>3.875000</td>\n",
       "      <td>6.400000</td>\n",
       "      <td>NaN</td>\n",
       "      <td>3.000000</td>\n",
       "    </tr>\n",
       "    <tr>\n",
       "      <th>50%</th>\n",
       "      <td>3.435000</td>\n",
       "      <td>7.420000</td>\n",
       "      <td>1.610000</td>\n",
       "      <td>3.10000</td>\n",
       "      <td>0.060000</td>\n",
       "      <td>1.980000</td>\n",
       "      <td>0.790000</td>\n",
       "      <td>0.690000</td>\n",
       "      <td>0.000000</td>\n",
       "      <td>95.00000</td>\n",
       "      <td>...</td>\n",
       "      <td>13.535000</td>\n",
       "      <td>9.840000</td>\n",
       "      <td>7.34500</td>\n",
       "      <td>0.010000</td>\n",
       "      <td>0.000000</td>\n",
       "      <td>33.500000</td>\n",
       "      <td>11.250000</td>\n",
       "      <td>10.900000</td>\n",
       "      <td>NaN</td>\n",
       "      <td>5.500000</td>\n",
       "    </tr>\n",
       "    <tr>\n",
       "      <th>75%</th>\n",
       "      <td>3.710000</td>\n",
       "      <td>7.710000</td>\n",
       "      <td>1.690000</td>\n",
       "      <td>3.27000</td>\n",
       "      <td>0.070000</td>\n",
       "      <td>2.090000</td>\n",
       "      <td>0.810000</td>\n",
       "      <td>0.700000</td>\n",
       "      <td>0.000000</td>\n",
       "      <td>119.92500</td>\n",
       "      <td>...</td>\n",
       "      <td>15.922500</td>\n",
       "      <td>12.415000</td>\n",
       "      <td>9.82500</td>\n",
       "      <td>0.270000</td>\n",
       "      <td>0.072500</td>\n",
       "      <td>41.725000</td>\n",
       "      <td>15.325000</td>\n",
       "      <td>14.325000</td>\n",
       "      <td>NaN</td>\n",
       "      <td>8.000000</td>\n",
       "    </tr>\n",
       "    <tr>\n",
       "      <th>max</th>\n",
       "      <td>4.720000</td>\n",
       "      <td>8.630000</td>\n",
       "      <td>2.210000</td>\n",
       "      <td>3.69000</td>\n",
       "      <td>0.130000</td>\n",
       "      <td>2.690000</td>\n",
       "      <td>0.870000</td>\n",
       "      <td>0.760000</td>\n",
       "      <td>0.600000</td>\n",
       "      <td>183.20000</td>\n",
       "      <td>...</td>\n",
       "      <td>31.000000</td>\n",
       "      <td>22.180000</td>\n",
       "      <td>21.88000</td>\n",
       "      <td>3.730000</td>\n",
       "      <td>0.990000</td>\n",
       "      <td>76.300000</td>\n",
       "      <td>21.800000</td>\n",
       "      <td>28.600000</td>\n",
       "      <td>NaN</td>\n",
       "      <td>10.000000</td>\n",
       "    </tr>\n",
       "  </tbody>\n",
       "</table>\n",
       "<p>11 rows × 22 columns</p>\n",
       "</div>"
      ],
      "text/plain": [
       "                P1          P2          P3         P4          P5          P6  \\\n",
       "count   400.000000  400.000000  400.000000  400.00000  400.000000  400.000000   \n",
       "unique         NaN         NaN         NaN        NaN         NaN         NaN   \n",
       "top            NaN         NaN         NaN        NaN         NaN         NaN   \n",
       "freq           NaN         NaN         NaN        NaN         NaN         NaN   \n",
       "mean      3.441575    7.403225    1.595625    3.12340    0.056550    1.970525   \n",
       "std       0.395690    0.421662    0.140773    0.19666    0.015188    0.196999   \n",
       "min       2.410000    6.280000    1.180000    2.60000    0.020000    1.220000   \n",
       "25%       3.167500    7.100000    1.520000    3.00000    0.040000    1.870000   \n",
       "50%       3.435000    7.420000    1.610000    3.10000    0.060000    1.980000   \n",
       "75%       3.710000    7.710000    1.690000    3.27000    0.070000    2.090000   \n",
       "max       4.720000    8.630000    2.210000    3.69000    0.130000    2.690000   \n",
       "\n",
       "                P7          P8          P9        P10  ...         P13  \\\n",
       "count   400.000000  400.000000  400.000000  400.00000  ...  400.000000   \n",
       "unique         NaN         NaN         NaN        NaN  ...         NaN   \n",
       "top            NaN         NaN         NaN        NaN  ...         NaN   \n",
       "freq           NaN         NaN         NaN        NaN  ...         NaN   \n",
       "mean      0.787700    0.690450    0.020500  103.88375  ...   13.666600   \n",
       "std       0.027931    0.017652    0.092878   40.77963  ...    3.934187   \n",
       "min       0.670000    0.640000    0.000000   43.30000  ...    5.700000   \n",
       "25%       0.770000    0.680000    0.000000   75.35000  ...   10.930000   \n",
       "50%       0.790000    0.690000    0.000000   95.00000  ...   13.535000   \n",
       "75%       0.810000    0.700000    0.000000  119.92500  ...   15.922500   \n",
       "max       0.870000    0.760000    0.600000  183.20000  ...   31.000000   \n",
       "\n",
       "               P14        P15         P16         P17         P18         P19  \\\n",
       "count   400.000000  400.00000  400.000000  400.000000  400.000000  400.000000   \n",
       "unique         NaN        NaN         NaN         NaN         NaN         NaN   \n",
       "top            NaN        NaN         NaN         NaN         NaN         NaN   \n",
       "freq           NaN        NaN         NaN         NaN         NaN         NaN   \n",
       "mean     10.190050    8.39965    0.528475    0.155375   39.988250   10.069250   \n",
       "std       3.384236    3.35507    1.017907    0.301290   16.699209    5.942395   \n",
       "min       4.070000    3.49000    0.000000    0.000000   20.200000    0.100000   \n",
       "25%       7.607500    6.01750    0.000000    0.000000   28.875000    3.875000   \n",
       "50%       9.840000    7.34500    0.010000    0.000000   33.500000   11.250000   \n",
       "75%      12.415000    9.82500    0.270000    0.072500   41.725000   15.325000   \n",
       "max      22.180000   21.88000    3.730000    0.990000   76.300000   21.800000   \n",
       "\n",
       "               P20  Target Label          re  \n",
       "count   400.000000           400  400.000000  \n",
       "unique         NaN            10         NaN  \n",
       "top            NaN            V3         NaN  \n",
       "freq           NaN            40         NaN  \n",
       "mean     10.600000           NaN    5.500000  \n",
       "std       6.213398           NaN    2.875878  \n",
       "min      -0.900000           NaN    1.000000  \n",
       "25%       6.400000           NaN    3.000000  \n",
       "50%      10.900000           NaN    5.500000  \n",
       "75%      14.325000           NaN    8.000000  \n",
       "max      28.600000           NaN   10.000000  \n",
       "\n",
       "[11 rows x 22 columns]"
      ]
     },
     "execution_count": 40,
     "metadata": {},
     "output_type": "execute_result"
    }
   ],
   "source": [
    "df.describe(include='all')"
   ]
  },
  {
   "cell_type": "code",
   "execution_count": 41,
   "metadata": {
    "colab": {
     "base_uri": "https://localhost:8080/",
     "height": 106
    },
    "id": "g_aO8VqMAEGK",
    "outputId": "a2f9ef75-fcf7-4a46-dac6-f38d4598f050"
   },
   "outputs": [
    {
     "data": {
      "text/html": [
       "<div>\n",
       "<style scoped>\n",
       "    .dataframe tbody tr th:only-of-type {\n",
       "        vertical-align: middle;\n",
       "    }\n",
       "\n",
       "    .dataframe tbody tr th {\n",
       "        vertical-align: top;\n",
       "    }\n",
       "\n",
       "    .dataframe thead th {\n",
       "        text-align: right;\n",
       "    }\n",
       "</style>\n",
       "<table border=\"1\" class=\"dataframe\">\n",
       "  <thead>\n",
       "    <tr style=\"text-align: right;\">\n",
       "      <th></th>\n",
       "      <th>P1</th>\n",
       "      <th>P2</th>\n",
       "      <th>P3</th>\n",
       "      <th>P4</th>\n",
       "      <th>P5</th>\n",
       "      <th>P6</th>\n",
       "      <th>P7</th>\n",
       "      <th>P8</th>\n",
       "      <th>P9</th>\n",
       "      <th>P10</th>\n",
       "      <th>P11</th>\n",
       "      <th>P12</th>\n",
       "      <th>P13</th>\n",
       "      <th>P14</th>\n",
       "      <th>P15</th>\n",
       "      <th>P16</th>\n",
       "      <th>P17</th>\n",
       "      <th>P18</th>\n",
       "      <th>P19</th>\n",
       "      <th>P20</th>\n",
       "    </tr>\n",
       "  </thead>\n",
       "  <tbody>\n",
       "    <tr>\n",
       "      <th>0</th>\n",
       "      <td>3.30</td>\n",
       "      <td>7.44</td>\n",
       "      <td>1.52</td>\n",
       "      <td>3.27</td>\n",
       "      <td>0.07</td>\n",
       "      <td>2.14</td>\n",
       "      <td>0.75</td>\n",
       "      <td>0.66</td>\n",
       "      <td>0.0</td>\n",
       "      <td>54.8</td>\n",
       "      <td>49.7</td>\n",
       "      <td>50.7</td>\n",
       "      <td>6.55</td>\n",
       "      <td>4.09</td>\n",
       "      <td>4.26</td>\n",
       "      <td>0.01</td>\n",
       "      <td>0.0</td>\n",
       "      <td>24.7</td>\n",
       "      <td>2.7</td>\n",
       "      <td>1.6</td>\n",
       "    </tr>\n",
       "    <tr>\n",
       "      <th>1</th>\n",
       "      <td>3.43</td>\n",
       "      <td>7.63</td>\n",
       "      <td>1.63</td>\n",
       "      <td>3.27</td>\n",
       "      <td>0.05</td>\n",
       "      <td>2.01</td>\n",
       "      <td>0.74</td>\n",
       "      <td>0.65</td>\n",
       "      <td>0.0</td>\n",
       "      <td>51.8</td>\n",
       "      <td>47.3</td>\n",
       "      <td>47.9</td>\n",
       "      <td>8.35</td>\n",
       "      <td>5.08</td>\n",
       "      <td>5.01</td>\n",
       "      <td>0.01</td>\n",
       "      <td>0.0</td>\n",
       "      <td>23.3</td>\n",
       "      <td>2.3</td>\n",
       "      <td>1.8</td>\n",
       "    </tr>\n",
       "  </tbody>\n",
       "</table>\n",
       "</div>"
      ],
      "text/plain": [
       "     P1    P2    P3    P4    P5    P6    P7    P8   P9   P10   P11   P12  \\\n",
       "0  3.30  7.44  1.52  3.27  0.07  2.14  0.75  0.66  0.0  54.8  49.7  50.7   \n",
       "1  3.43  7.63  1.63  3.27  0.05  2.01  0.74  0.65  0.0  51.8  47.3  47.9   \n",
       "\n",
       "    P13   P14   P15   P16  P17   P18  P19  P20  \n",
       "0  6.55  4.09  4.26  0.01  0.0  24.7  2.7  1.6  \n",
       "1  8.35  5.08  5.01  0.01  0.0  23.3  2.3  1.8  "
      ]
     },
     "execution_count": 41,
     "metadata": {},
     "output_type": "execute_result"
    }
   ],
   "source": [
    "x=df[['P1','P2','P3','P4','P5','P6','P7','P8','P9','P10','P11','P12','P13','P14','P15','P16','P17','P18','P19','P20']]\n",
    "y=df['re']\n",
    "x.head(2)"
   ]
  },
  {
   "cell_type": "code",
   "execution_count": 42,
   "metadata": {
    "colab": {
     "base_uri": "https://localhost:8080/"
    },
    "id": "AYNKBU-GAQat",
    "outputId": "1d7112e4-42c7-4e06-8da7-53757b83950c"
   },
   "outputs": [
    {
     "data": {
      "text/plain": [
       "0    1\n",
       "1    1\n",
       "Name: re, dtype: int64"
      ]
     },
     "execution_count": 42,
     "metadata": {},
     "output_type": "execute_result"
    }
   ],
   "source": [
    "y.head(2)"
   ]
  },
  {
   "cell_type": "markdown",
   "metadata": {
    "id": "yPcJgH57AYMm"
   },
   "source": [
    "**Splitting into Training and testing**"
   ]
  },
  {
   "cell_type": "code",
   "execution_count": 43,
   "metadata": {
    "colab": {
     "base_uri": "https://localhost:8080/"
    },
    "id": "HHZ89-heAd5J",
    "outputId": "e9964cd7-788e-4037-8ea8-901f5e89c33e"
   },
   "outputs": [
    {
     "data": {
      "text/plain": [
       "(240, 20)"
      ]
     },
     "execution_count": 43,
     "metadata": {},
     "output_type": "execute_result"
    }
   ],
   "source": [
    "x_train,x_test,y_train,y_test=train_test_split(x,y,test_size=0.4)\n",
    "x_train.shape"
   ]
  },
  {
   "cell_type": "code",
   "execution_count": 44,
   "metadata": {
    "colab": {
     "base_uri": "https://localhost:8080/"
    },
    "id": "mZYpeSOtAqsN",
    "outputId": "0f7c593d-0e7d-4773-86e7-0444e096da9c"
   },
   "outputs": [
    {
     "data": {
      "text/plain": [
       "(240,)"
      ]
     },
     "execution_count": 44,
     "metadata": {},
     "output_type": "execute_result"
    }
   ],
   "source": [
    "y_train.shape"
   ]
  },
  {
   "cell_type": "markdown",
   "metadata": {
    "id": "LLCWNTHvA0p8"
   },
   "source": [
    "**Training Model using MLP Classifier**"
   ]
  },
  {
   "cell_type": "code",
   "execution_count": 45,
   "metadata": {
    "id": "cRK_kH4FA5I9"
   },
   "outputs": [],
   "source": [
    "from sklearn.neural_network import MLPClassifier"
   ]
  },
  {
   "cell_type": "code",
   "execution_count": 46,
   "metadata": {
    "colab": {
     "base_uri": "https://localhost:8080/"
    },
    "id": "uV2dUmslA-WF",
    "outputId": "8faf1319-5b80-48d4-e9be-c32d1fb2742c"
   },
   "outputs": [
    {
     "data": {
      "text/plain": [
       "MLPClassifier(max_iter=500)"
      ]
     },
     "execution_count": 46,
     "metadata": {},
     "output_type": "execute_result"
    }
   ],
   "source": [
    "mlp=MLPClassifier(max_iter=500,activation='relu')\n",
    "mlp"
   ]
  },
  {
   "cell_type": "code",
   "execution_count": 47,
   "metadata": {
    "colab": {
     "base_uri": "https://localhost:8080/"
    },
    "id": "UzpU6j10BGib",
    "outputId": "98618cf0-5b87-465f-df40-c4182ce1ec4c"
   },
   "outputs": [
    {
     "data": {
      "text/plain": [
       "MLPClassifier(max_iter=500)"
      ]
     },
     "execution_count": 47,
     "metadata": {},
     "output_type": "execute_result"
    }
   ],
   "source": [
    "mlp.fit(x_train,y_train)"
   ]
  },
  {
   "cell_type": "markdown",
   "metadata": {
    "id": "1VgCFCstBXJt"
   },
   "source": [
    "**Testing**"
   ]
  },
  {
   "cell_type": "code",
   "execution_count": 48,
   "metadata": {
    "colab": {
     "base_uri": "https://localhost:8080/"
    },
    "id": "5N0Y6oxTBZ_4",
    "outputId": "68ececb2-fdaa-4ef1-d682-8ba564d35bad"
   },
   "outputs": [
    {
     "data": {
      "text/plain": [
       "array([ 1, 10, 10,  7, 10,  1,  7,  1, 10,  9,  3,  3,  6,  9,  1,  4,  5,\n",
       "        6,  2, 10, 10,  3,  4,  9,  5,  4,  5,  1,  9,  8,  3, 10,  8,  1,\n",
       "        6,  8,  7, 10,  2,  4,  1,  5,  6,  3,  2, 10, 10,  4,  3,  9, 10,\n",
       "        5,  7, 10,  3,  1,  9,  8,  1,  3,  3, 10,  7,  8,  4,  7,  9,  1,\n",
       "        5,  7,  7, 10, 10,  6,  3,  8,  7,  8,  3, 10,  6, 10,  3,  7,  6,\n",
       "        4,  1,  9, 10,  1,  7,  5,  9,  6,  4,  9,  5,  4,  4,  3,  4,  6,\n",
       "        3,  9,  4, 10,  6,  9,  7,  3,  3, 10, 10, 10,  8,  8,  6,  4,  8,\n",
       "       10,  3,  1, 10,  8,  5,  6, 10,  4,  5,  2,  3,  1,  6,  7,  4,  4,\n",
       "        8,  7, 10,  8,  2,  4,  5,  8,  4,  6,  5,  5,  1,  5,  6,  6,  8,\n",
       "        5, 10,  7,  9, 10,  7,  3], dtype=int64)"
      ]
     },
     "execution_count": 48,
     "metadata": {},
     "output_type": "execute_result"
    }
   ],
   "source": [
    "prediction=mlp.predict(x_test)\n",
    "prediction"
   ]
  },
  {
   "cell_type": "markdown",
   "metadata": {
    "id": "2DnbjtpABlFo"
   },
   "source": [
    "**Model Evaluation**"
   ]
  },
  {
   "cell_type": "code",
   "execution_count": 49,
   "metadata": {
    "colab": {
     "base_uri": "https://localhost:8080/"
    },
    "id": "TAIZ5RM-Bnr1",
    "outputId": "b6c29f1b-48ef-41dc-f431-0b12ab713a3a"
   },
   "outputs": [
    {
     "data": {
      "text/plain": [
       "array([[13,  0,  4,  0,  0,  0,  0,  0,  0,  0],\n",
       "       [ 0,  4,  0,  0,  0,  0,  0,  0,  0, 13],\n",
       "       [ 2,  0, 11,  1,  0,  0,  0,  0,  0,  0],\n",
       "       [ 0,  0,  2, 11,  1,  0,  0,  0,  3,  0],\n",
       "       [ 0,  0,  0,  0,  6,  5,  0,  0,  3,  0],\n",
       "       [ 0,  0,  2,  2,  4,  9,  0,  0,  0,  0],\n",
       "       [ 0,  0,  0,  0,  0,  0, 14,  2,  0,  0],\n",
       "       [ 0,  0,  0,  0,  0,  0,  2, 13,  0,  0],\n",
       "       [ 0,  0,  0,  4,  4,  2,  0,  0,  7,  0],\n",
       "       [ 0,  1,  0,  0,  0,  0,  0,  0,  0, 15]], dtype=int64)"
      ]
     },
     "execution_count": 49,
     "metadata": {},
     "output_type": "execute_result"
    }
   ],
   "source": [
    "confusion_matrix(y_test,prediction)"
   ]
  },
  {
   "cell_type": "code",
   "execution_count": 50,
   "metadata": {
    "colab": {
     "base_uri": "https://localhost:8080/"
    },
    "id": "pMG-Q8_RBzLi",
    "outputId": "6e6bfbf1-015a-4e71-ddb2-c696d9c83af2"
   },
   "outputs": [
    {
     "name": "stdout",
     "output_type": "stream",
     "text": [
      "              precision    recall  f1-score   support\n",
      "\n",
      "           1       0.87      0.76      0.81        17\n",
      "           2       0.80      0.24      0.36        17\n",
      "           3       0.58      0.79      0.67        14\n",
      "           4       0.61      0.65      0.63        17\n",
      "           5       0.40      0.43      0.41        14\n",
      "           6       0.56      0.53      0.55        17\n",
      "           7       0.88      0.88      0.88        16\n",
      "           8       0.87      0.87      0.87        15\n",
      "           9       0.54      0.41      0.47        17\n",
      "          10       0.54      0.94      0.68        16\n",
      "\n",
      "    accuracy                           0.64       160\n",
      "   macro avg       0.66      0.65      0.63       160\n",
      "weighted avg       0.67      0.64      0.63       160\n",
      "\n"
     ]
    }
   ],
   "source": [
    "print(classification_report(y_test,prediction))"
   ]
  },
  {
   "cell_type": "markdown",
   "metadata": {
    "id": "l5eoB1A3B7aw"
   },
   "source": [
    "**Model Accuracy is 64%**\n"
   ]
  },
  {
   "cell_type": "code",
   "execution_count": null,
   "metadata": {},
   "outputs": [],
   "source": []
  }
 ],
 "metadata": {
  "accelerator": "GPU",
  "colab": {
   "collapsed_sections": [],
   "name": "MLPFINAL.ipynb",
   "provenance": []
  },
  "kernelspec": {
   "display_name": "Python 3",
   "language": "python",
   "name": "python3"
  },
  "language_info": {
   "codemirror_mode": {
    "name": "ipython",
    "version": 3
   },
   "file_extension": ".py",
   "mimetype": "text/x-python",
   "name": "python",
   "nbconvert_exporter": "python",
   "pygments_lexer": "ipython3",
   "version": "3.6.10"
  }
 },
 "nbformat": 4,
 "nbformat_minor": 1
}
